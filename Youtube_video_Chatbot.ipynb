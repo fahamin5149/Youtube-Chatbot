{
  "nbformat": 4,
  "nbformat_minor": 0,
  "metadata": {
    "colab": {
      "provenance": []
    },
    "kernelspec": {
      "name": "python3",
      "display_name": "Python 3"
    },
    "language_info": {
      "name": "python"
    },
    "widgets": {
      "application/vnd.jupyter.widget-state+json": {
        "34c83cd5b9104b4daf45c0a49f1e2871": {
          "model_module": "@jupyter-widgets/controls",
          "model_name": "HBoxModel",
          "model_module_version": "1.5.0",
          "state": {
            "_dom_classes": [],
            "_model_module": "@jupyter-widgets/controls",
            "_model_module_version": "1.5.0",
            "_model_name": "HBoxModel",
            "_view_count": null,
            "_view_module": "@jupyter-widgets/controls",
            "_view_module_version": "1.5.0",
            "_view_name": "HBoxView",
            "box_style": "",
            "children": [
              "IPY_MODEL_0e5ca4b6a6bc4c89bf6c1dc3cba9c8af",
              "IPY_MODEL_406b813a4700420caf70e3a996aa3087",
              "IPY_MODEL_b76722d894384ae5af8cd0b131a90f05"
            ],
            "layout": "IPY_MODEL_b06d1e0c97c44aa4a858aa2df890cba6"
          }
        },
        "0e5ca4b6a6bc4c89bf6c1dc3cba9c8af": {
          "model_module": "@jupyter-widgets/controls",
          "model_name": "HTMLModel",
          "model_module_version": "1.5.0",
          "state": {
            "_dom_classes": [],
            "_model_module": "@jupyter-widgets/controls",
            "_model_module_version": "1.5.0",
            "_model_name": "HTMLModel",
            "_view_count": null,
            "_view_module": "@jupyter-widgets/controls",
            "_view_module_version": "1.5.0",
            "_view_name": "HTMLView",
            "description": "",
            "description_tooltip": null,
            "layout": "IPY_MODEL_d25cd3fd04334044a0d0db13a3431f81",
            "placeholder": "​",
            "style": "IPY_MODEL_7639d4898d254113804a0cf696d4bfc6",
            "value": "Fetching 5 files: 100%"
          }
        },
        "406b813a4700420caf70e3a996aa3087": {
          "model_module": "@jupyter-widgets/controls",
          "model_name": "FloatProgressModel",
          "model_module_version": "1.5.0",
          "state": {
            "_dom_classes": [],
            "_model_module": "@jupyter-widgets/controls",
            "_model_module_version": "1.5.0",
            "_model_name": "FloatProgressModel",
            "_view_count": null,
            "_view_module": "@jupyter-widgets/controls",
            "_view_module_version": "1.5.0",
            "_view_name": "ProgressView",
            "bar_style": "success",
            "description": "",
            "description_tooltip": null,
            "layout": "IPY_MODEL_1a8f8b2e07554a54adf171ef5fe9fb5f",
            "max": 5,
            "min": 0,
            "orientation": "horizontal",
            "style": "IPY_MODEL_6694ab9ee9b840a1a5e0630c3cc5ad81",
            "value": 5
          }
        },
        "b76722d894384ae5af8cd0b131a90f05": {
          "model_module": "@jupyter-widgets/controls",
          "model_name": "HTMLModel",
          "model_module_version": "1.5.0",
          "state": {
            "_dom_classes": [],
            "_model_module": "@jupyter-widgets/controls",
            "_model_module_version": "1.5.0",
            "_model_name": "HTMLModel",
            "_view_count": null,
            "_view_module": "@jupyter-widgets/controls",
            "_view_module_version": "1.5.0",
            "_view_name": "HTMLView",
            "description": "",
            "description_tooltip": null,
            "layout": "IPY_MODEL_77b8d5f5d03c4a65ac93fbb1c3a78287",
            "placeholder": "​",
            "style": "IPY_MODEL_48485bf79e5d45d381e03da5db563830",
            "value": " 5/5 [00:01&lt;00:00,  1.05s/it]"
          }
        },
        "b06d1e0c97c44aa4a858aa2df890cba6": {
          "model_module": "@jupyter-widgets/base",
          "model_name": "LayoutModel",
          "model_module_version": "1.2.0",
          "state": {
            "_model_module": "@jupyter-widgets/base",
            "_model_module_version": "1.2.0",
            "_model_name": "LayoutModel",
            "_view_count": null,
            "_view_module": "@jupyter-widgets/base",
            "_view_module_version": "1.2.0",
            "_view_name": "LayoutView",
            "align_content": null,
            "align_items": null,
            "align_self": null,
            "border": null,
            "bottom": null,
            "display": null,
            "flex": null,
            "flex_flow": null,
            "grid_area": null,
            "grid_auto_columns": null,
            "grid_auto_flow": null,
            "grid_auto_rows": null,
            "grid_column": null,
            "grid_gap": null,
            "grid_row": null,
            "grid_template_areas": null,
            "grid_template_columns": null,
            "grid_template_rows": null,
            "height": null,
            "justify_content": null,
            "justify_items": null,
            "left": null,
            "margin": null,
            "max_height": null,
            "max_width": null,
            "min_height": null,
            "min_width": null,
            "object_fit": null,
            "object_position": null,
            "order": null,
            "overflow": null,
            "overflow_x": null,
            "overflow_y": null,
            "padding": null,
            "right": null,
            "top": null,
            "visibility": null,
            "width": null
          }
        },
        "d25cd3fd04334044a0d0db13a3431f81": {
          "model_module": "@jupyter-widgets/base",
          "model_name": "LayoutModel",
          "model_module_version": "1.2.0",
          "state": {
            "_model_module": "@jupyter-widgets/base",
            "_model_module_version": "1.2.0",
            "_model_name": "LayoutModel",
            "_view_count": null,
            "_view_module": "@jupyter-widgets/base",
            "_view_module_version": "1.2.0",
            "_view_name": "LayoutView",
            "align_content": null,
            "align_items": null,
            "align_self": null,
            "border": null,
            "bottom": null,
            "display": null,
            "flex": null,
            "flex_flow": null,
            "grid_area": null,
            "grid_auto_columns": null,
            "grid_auto_flow": null,
            "grid_auto_rows": null,
            "grid_column": null,
            "grid_gap": null,
            "grid_row": null,
            "grid_template_areas": null,
            "grid_template_columns": null,
            "grid_template_rows": null,
            "height": null,
            "justify_content": null,
            "justify_items": null,
            "left": null,
            "margin": null,
            "max_height": null,
            "max_width": null,
            "min_height": null,
            "min_width": null,
            "object_fit": null,
            "object_position": null,
            "order": null,
            "overflow": null,
            "overflow_x": null,
            "overflow_y": null,
            "padding": null,
            "right": null,
            "top": null,
            "visibility": null,
            "width": null
          }
        },
        "7639d4898d254113804a0cf696d4bfc6": {
          "model_module": "@jupyter-widgets/controls",
          "model_name": "DescriptionStyleModel",
          "model_module_version": "1.5.0",
          "state": {
            "_model_module": "@jupyter-widgets/controls",
            "_model_module_version": "1.5.0",
            "_model_name": "DescriptionStyleModel",
            "_view_count": null,
            "_view_module": "@jupyter-widgets/base",
            "_view_module_version": "1.2.0",
            "_view_name": "StyleView",
            "description_width": ""
          }
        },
        "1a8f8b2e07554a54adf171ef5fe9fb5f": {
          "model_module": "@jupyter-widgets/base",
          "model_name": "LayoutModel",
          "model_module_version": "1.2.0",
          "state": {
            "_model_module": "@jupyter-widgets/base",
            "_model_module_version": "1.2.0",
            "_model_name": "LayoutModel",
            "_view_count": null,
            "_view_module": "@jupyter-widgets/base",
            "_view_module_version": "1.2.0",
            "_view_name": "LayoutView",
            "align_content": null,
            "align_items": null,
            "align_self": null,
            "border": null,
            "bottom": null,
            "display": null,
            "flex": null,
            "flex_flow": null,
            "grid_area": null,
            "grid_auto_columns": null,
            "grid_auto_flow": null,
            "grid_auto_rows": null,
            "grid_column": null,
            "grid_gap": null,
            "grid_row": null,
            "grid_template_areas": null,
            "grid_template_columns": null,
            "grid_template_rows": null,
            "height": null,
            "justify_content": null,
            "justify_items": null,
            "left": null,
            "margin": null,
            "max_height": null,
            "max_width": null,
            "min_height": null,
            "min_width": null,
            "object_fit": null,
            "object_position": null,
            "order": null,
            "overflow": null,
            "overflow_x": null,
            "overflow_y": null,
            "padding": null,
            "right": null,
            "top": null,
            "visibility": null,
            "width": null
          }
        },
        "6694ab9ee9b840a1a5e0630c3cc5ad81": {
          "model_module": "@jupyter-widgets/controls",
          "model_name": "ProgressStyleModel",
          "model_module_version": "1.5.0",
          "state": {
            "_model_module": "@jupyter-widgets/controls",
            "_model_module_version": "1.5.0",
            "_model_name": "ProgressStyleModel",
            "_view_count": null,
            "_view_module": "@jupyter-widgets/base",
            "_view_module_version": "1.2.0",
            "_view_name": "StyleView",
            "bar_color": null,
            "description_width": ""
          }
        },
        "77b8d5f5d03c4a65ac93fbb1c3a78287": {
          "model_module": "@jupyter-widgets/base",
          "model_name": "LayoutModel",
          "model_module_version": "1.2.0",
          "state": {
            "_model_module": "@jupyter-widgets/base",
            "_model_module_version": "1.2.0",
            "_model_name": "LayoutModel",
            "_view_count": null,
            "_view_module": "@jupyter-widgets/base",
            "_view_module_version": "1.2.0",
            "_view_name": "LayoutView",
            "align_content": null,
            "align_items": null,
            "align_self": null,
            "border": null,
            "bottom": null,
            "display": null,
            "flex": null,
            "flex_flow": null,
            "grid_area": null,
            "grid_auto_columns": null,
            "grid_auto_flow": null,
            "grid_auto_rows": null,
            "grid_column": null,
            "grid_gap": null,
            "grid_row": null,
            "grid_template_areas": null,
            "grid_template_columns": null,
            "grid_template_rows": null,
            "height": null,
            "justify_content": null,
            "justify_items": null,
            "left": null,
            "margin": null,
            "max_height": null,
            "max_width": null,
            "min_height": null,
            "min_width": null,
            "object_fit": null,
            "object_position": null,
            "order": null,
            "overflow": null,
            "overflow_x": null,
            "overflow_y": null,
            "padding": null,
            "right": null,
            "top": null,
            "visibility": null,
            "width": null
          }
        },
        "48485bf79e5d45d381e03da5db563830": {
          "model_module": "@jupyter-widgets/controls",
          "model_name": "DescriptionStyleModel",
          "model_module_version": "1.5.0",
          "state": {
            "_model_module": "@jupyter-widgets/controls",
            "_model_module_version": "1.5.0",
            "_model_name": "DescriptionStyleModel",
            "_view_count": null,
            "_view_module": "@jupyter-widgets/base",
            "_view_module_version": "1.2.0",
            "_view_name": "StyleView",
            "description_width": ""
          }
        },
        "fe9cb9d5bd5649f4a672793feeeefb68": {
          "model_module": "@jupyter-widgets/controls",
          "model_name": "HBoxModel",
          "model_module_version": "1.5.0",
          "state": {
            "_dom_classes": [],
            "_model_module": "@jupyter-widgets/controls",
            "_model_module_version": "1.5.0",
            "_model_name": "HBoxModel",
            "_view_count": null,
            "_view_module": "@jupyter-widgets/controls",
            "_view_module_version": "1.5.0",
            "_view_name": "HBoxView",
            "box_style": "",
            "children": [
              "IPY_MODEL_47040a5a60aa49fdbc7071e94d18dec3",
              "IPY_MODEL_cbdd75a378604500b5d7556b8c3f70a9",
              "IPY_MODEL_0cc25fae6c6248949991717cfdac7105"
            ],
            "layout": "IPY_MODEL_13c5d140fb754c1ea34db73d1094fbaa"
          }
        },
        "47040a5a60aa49fdbc7071e94d18dec3": {
          "model_module": "@jupyter-widgets/controls",
          "model_name": "HTMLModel",
          "model_module_version": "1.5.0",
          "state": {
            "_dom_classes": [],
            "_model_module": "@jupyter-widgets/controls",
            "_model_module_version": "1.5.0",
            "_model_name": "HTMLModel",
            "_view_count": null,
            "_view_module": "@jupyter-widgets/controls",
            "_view_module_version": "1.5.0",
            "_view_name": "HTMLView",
            "description": "",
            "description_tooltip": null,
            "layout": "IPY_MODEL_c6c45e56a80a4ceba0ed98889fee7c2a",
            "placeholder": "​",
            "style": "IPY_MODEL_85886ce01a944415a37022f673077c63",
            "value": "model_optimized.onnx: 100%"
          }
        },
        "cbdd75a378604500b5d7556b8c3f70a9": {
          "model_module": "@jupyter-widgets/controls",
          "model_name": "FloatProgressModel",
          "model_module_version": "1.5.0",
          "state": {
            "_dom_classes": [],
            "_model_module": "@jupyter-widgets/controls",
            "_model_module_version": "1.5.0",
            "_model_name": "FloatProgressModel",
            "_view_count": null,
            "_view_module": "@jupyter-widgets/controls",
            "_view_module_version": "1.5.0",
            "_view_name": "ProgressView",
            "bar_style": "success",
            "description": "",
            "description_tooltip": null,
            "layout": "IPY_MODEL_a9f76cce1b714e0399d1a8a4c04e7cf2",
            "max": 217824172,
            "min": 0,
            "orientation": "horizontal",
            "style": "IPY_MODEL_7294083fc9e14466a9f41d2ab97cbb1e",
            "value": 217824172
          }
        },
        "0cc25fae6c6248949991717cfdac7105": {
          "model_module": "@jupyter-widgets/controls",
          "model_name": "HTMLModel",
          "model_module_version": "1.5.0",
          "state": {
            "_dom_classes": [],
            "_model_module": "@jupyter-widgets/controls",
            "_model_module_version": "1.5.0",
            "_model_name": "HTMLModel",
            "_view_count": null,
            "_view_module": "@jupyter-widgets/controls",
            "_view_module_version": "1.5.0",
            "_view_name": "HTMLView",
            "description": "",
            "description_tooltip": null,
            "layout": "IPY_MODEL_b330cb993027441e9ed4a936251944c8",
            "placeholder": "​",
            "style": "IPY_MODEL_e055c44d7e5c4f2f9efe5665df2e37a2",
            "value": " 218M/218M [00:01&lt;00:00, 171MB/s]"
          }
        },
        "13c5d140fb754c1ea34db73d1094fbaa": {
          "model_module": "@jupyter-widgets/base",
          "model_name": "LayoutModel",
          "model_module_version": "1.2.0",
          "state": {
            "_model_module": "@jupyter-widgets/base",
            "_model_module_version": "1.2.0",
            "_model_name": "LayoutModel",
            "_view_count": null,
            "_view_module": "@jupyter-widgets/base",
            "_view_module_version": "1.2.0",
            "_view_name": "LayoutView",
            "align_content": null,
            "align_items": null,
            "align_self": null,
            "border": null,
            "bottom": null,
            "display": null,
            "flex": null,
            "flex_flow": null,
            "grid_area": null,
            "grid_auto_columns": null,
            "grid_auto_flow": null,
            "grid_auto_rows": null,
            "grid_column": null,
            "grid_gap": null,
            "grid_row": null,
            "grid_template_areas": null,
            "grid_template_columns": null,
            "grid_template_rows": null,
            "height": null,
            "justify_content": null,
            "justify_items": null,
            "left": null,
            "margin": null,
            "max_height": null,
            "max_width": null,
            "min_height": null,
            "min_width": null,
            "object_fit": null,
            "object_position": null,
            "order": null,
            "overflow": null,
            "overflow_x": null,
            "overflow_y": null,
            "padding": null,
            "right": null,
            "top": null,
            "visibility": null,
            "width": null
          }
        },
        "c6c45e56a80a4ceba0ed98889fee7c2a": {
          "model_module": "@jupyter-widgets/base",
          "model_name": "LayoutModel",
          "model_module_version": "1.2.0",
          "state": {
            "_model_module": "@jupyter-widgets/base",
            "_model_module_version": "1.2.0",
            "_model_name": "LayoutModel",
            "_view_count": null,
            "_view_module": "@jupyter-widgets/base",
            "_view_module_version": "1.2.0",
            "_view_name": "LayoutView",
            "align_content": null,
            "align_items": null,
            "align_self": null,
            "border": null,
            "bottom": null,
            "display": null,
            "flex": null,
            "flex_flow": null,
            "grid_area": null,
            "grid_auto_columns": null,
            "grid_auto_flow": null,
            "grid_auto_rows": null,
            "grid_column": null,
            "grid_gap": null,
            "grid_row": null,
            "grid_template_areas": null,
            "grid_template_columns": null,
            "grid_template_rows": null,
            "height": null,
            "justify_content": null,
            "justify_items": null,
            "left": null,
            "margin": null,
            "max_height": null,
            "max_width": null,
            "min_height": null,
            "min_width": null,
            "object_fit": null,
            "object_position": null,
            "order": null,
            "overflow": null,
            "overflow_x": null,
            "overflow_y": null,
            "padding": null,
            "right": null,
            "top": null,
            "visibility": null,
            "width": null
          }
        },
        "85886ce01a944415a37022f673077c63": {
          "model_module": "@jupyter-widgets/controls",
          "model_name": "DescriptionStyleModel",
          "model_module_version": "1.5.0",
          "state": {
            "_model_module": "@jupyter-widgets/controls",
            "_model_module_version": "1.5.0",
            "_model_name": "DescriptionStyleModel",
            "_view_count": null,
            "_view_module": "@jupyter-widgets/base",
            "_view_module_version": "1.2.0",
            "_view_name": "StyleView",
            "description_width": ""
          }
        },
        "a9f76cce1b714e0399d1a8a4c04e7cf2": {
          "model_module": "@jupyter-widgets/base",
          "model_name": "LayoutModel",
          "model_module_version": "1.2.0",
          "state": {
            "_model_module": "@jupyter-widgets/base",
            "_model_module_version": "1.2.0",
            "_model_name": "LayoutModel",
            "_view_count": null,
            "_view_module": "@jupyter-widgets/base",
            "_view_module_version": "1.2.0",
            "_view_name": "LayoutView",
            "align_content": null,
            "align_items": null,
            "align_self": null,
            "border": null,
            "bottom": null,
            "display": null,
            "flex": null,
            "flex_flow": null,
            "grid_area": null,
            "grid_auto_columns": null,
            "grid_auto_flow": null,
            "grid_auto_rows": null,
            "grid_column": null,
            "grid_gap": null,
            "grid_row": null,
            "grid_template_areas": null,
            "grid_template_columns": null,
            "grid_template_rows": null,
            "height": null,
            "justify_content": null,
            "justify_items": null,
            "left": null,
            "margin": null,
            "max_height": null,
            "max_width": null,
            "min_height": null,
            "min_width": null,
            "object_fit": null,
            "object_position": null,
            "order": null,
            "overflow": null,
            "overflow_x": null,
            "overflow_y": null,
            "padding": null,
            "right": null,
            "top": null,
            "visibility": null,
            "width": null
          }
        },
        "7294083fc9e14466a9f41d2ab97cbb1e": {
          "model_module": "@jupyter-widgets/controls",
          "model_name": "ProgressStyleModel",
          "model_module_version": "1.5.0",
          "state": {
            "_model_module": "@jupyter-widgets/controls",
            "_model_module_version": "1.5.0",
            "_model_name": "ProgressStyleModel",
            "_view_count": null,
            "_view_module": "@jupyter-widgets/base",
            "_view_module_version": "1.2.0",
            "_view_name": "StyleView",
            "bar_color": null,
            "description_width": ""
          }
        },
        "b330cb993027441e9ed4a936251944c8": {
          "model_module": "@jupyter-widgets/base",
          "model_name": "LayoutModel",
          "model_module_version": "1.2.0",
          "state": {
            "_model_module": "@jupyter-widgets/base",
            "_model_module_version": "1.2.0",
            "_model_name": "LayoutModel",
            "_view_count": null,
            "_view_module": "@jupyter-widgets/base",
            "_view_module_version": "1.2.0",
            "_view_name": "LayoutView",
            "align_content": null,
            "align_items": null,
            "align_self": null,
            "border": null,
            "bottom": null,
            "display": null,
            "flex": null,
            "flex_flow": null,
            "grid_area": null,
            "grid_auto_columns": null,
            "grid_auto_flow": null,
            "grid_auto_rows": null,
            "grid_column": null,
            "grid_gap": null,
            "grid_row": null,
            "grid_template_areas": null,
            "grid_template_columns": null,
            "grid_template_rows": null,
            "height": null,
            "justify_content": null,
            "justify_items": null,
            "left": null,
            "margin": null,
            "max_height": null,
            "max_width": null,
            "min_height": null,
            "min_width": null,
            "object_fit": null,
            "object_position": null,
            "order": null,
            "overflow": null,
            "overflow_x": null,
            "overflow_y": null,
            "padding": null,
            "right": null,
            "top": null,
            "visibility": null,
            "width": null
          }
        },
        "e055c44d7e5c4f2f9efe5665df2e37a2": {
          "model_module": "@jupyter-widgets/controls",
          "model_name": "DescriptionStyleModel",
          "model_module_version": "1.5.0",
          "state": {
            "_model_module": "@jupyter-widgets/controls",
            "_model_module_version": "1.5.0",
            "_model_name": "DescriptionStyleModel",
            "_view_count": null,
            "_view_module": "@jupyter-widgets/base",
            "_view_module_version": "1.2.0",
            "_view_name": "StyleView",
            "description_width": ""
          }
        },
        "9c8f3d37a95e4f9ea04bb993fae3425e": {
          "model_module": "@jupyter-widgets/controls",
          "model_name": "HBoxModel",
          "model_module_version": "1.5.0",
          "state": {
            "_dom_classes": [],
            "_model_module": "@jupyter-widgets/controls",
            "_model_module_version": "1.5.0",
            "_model_name": "HBoxModel",
            "_view_count": null,
            "_view_module": "@jupyter-widgets/controls",
            "_view_module_version": "1.5.0",
            "_view_name": "HBoxView",
            "box_style": "",
            "children": [
              "IPY_MODEL_6e049508a0c4459e8a7ff0cd7a48712d",
              "IPY_MODEL_ad24f2680d254d9599f2a3b2db349348",
              "IPY_MODEL_bec64e92a334484096b9c0492c1da40d"
            ],
            "layout": "IPY_MODEL_3b7433eedf274a9bafb4ef1ecf073323"
          }
        },
        "6e049508a0c4459e8a7ff0cd7a48712d": {
          "model_module": "@jupyter-widgets/controls",
          "model_name": "HTMLModel",
          "model_module_version": "1.5.0",
          "state": {
            "_dom_classes": [],
            "_model_module": "@jupyter-widgets/controls",
            "_model_module_version": "1.5.0",
            "_model_name": "HTMLModel",
            "_view_count": null,
            "_view_module": "@jupyter-widgets/controls",
            "_view_module_version": "1.5.0",
            "_view_name": "HTMLView",
            "description": "",
            "description_tooltip": null,
            "layout": "IPY_MODEL_ce2f66483cfc4c62a26fef58fd9e7d2f",
            "placeholder": "​",
            "style": "IPY_MODEL_ccd04df758974db7a7ce21d80df55fe7",
            "value": "tokenizer_config.json: 100%"
          }
        },
        "ad24f2680d254d9599f2a3b2db349348": {
          "model_module": "@jupyter-widgets/controls",
          "model_name": "FloatProgressModel",
          "model_module_version": "1.5.0",
          "state": {
            "_dom_classes": [],
            "_model_module": "@jupyter-widgets/controls",
            "_model_module_version": "1.5.0",
            "_model_name": "FloatProgressModel",
            "_view_count": null,
            "_view_module": "@jupyter-widgets/controls",
            "_view_module_version": "1.5.0",
            "_view_name": "ProgressView",
            "bar_style": "success",
            "description": "",
            "description_tooltip": null,
            "layout": "IPY_MODEL_965a0c3c20ac4c78a568307bd4510962",
            "max": 1242,
            "min": 0,
            "orientation": "horizontal",
            "style": "IPY_MODEL_8cdc3e8c0382474496d90acf8242c78f",
            "value": 1242
          }
        },
        "bec64e92a334484096b9c0492c1da40d": {
          "model_module": "@jupyter-widgets/controls",
          "model_name": "HTMLModel",
          "model_module_version": "1.5.0",
          "state": {
            "_dom_classes": [],
            "_model_module": "@jupyter-widgets/controls",
            "_model_module_version": "1.5.0",
            "_model_name": "HTMLModel",
            "_view_count": null,
            "_view_module": "@jupyter-widgets/controls",
            "_view_module_version": "1.5.0",
            "_view_name": "HTMLView",
            "description": "",
            "description_tooltip": null,
            "layout": "IPY_MODEL_079c3f3e225441818b844a130098f846",
            "placeholder": "​",
            "style": "IPY_MODEL_c0afa77cf25d4e029beae66d53e3a3a6",
            "value": " 1.24k/1.24k [00:00&lt;00:00, 14.9kB/s]"
          }
        },
        "3b7433eedf274a9bafb4ef1ecf073323": {
          "model_module": "@jupyter-widgets/base",
          "model_name": "LayoutModel",
          "model_module_version": "1.2.0",
          "state": {
            "_model_module": "@jupyter-widgets/base",
            "_model_module_version": "1.2.0",
            "_model_name": "LayoutModel",
            "_view_count": null,
            "_view_module": "@jupyter-widgets/base",
            "_view_module_version": "1.2.0",
            "_view_name": "LayoutView",
            "align_content": null,
            "align_items": null,
            "align_self": null,
            "border": null,
            "bottom": null,
            "display": null,
            "flex": null,
            "flex_flow": null,
            "grid_area": null,
            "grid_auto_columns": null,
            "grid_auto_flow": null,
            "grid_auto_rows": null,
            "grid_column": null,
            "grid_gap": null,
            "grid_row": null,
            "grid_template_areas": null,
            "grid_template_columns": null,
            "grid_template_rows": null,
            "height": null,
            "justify_content": null,
            "justify_items": null,
            "left": null,
            "margin": null,
            "max_height": null,
            "max_width": null,
            "min_height": null,
            "min_width": null,
            "object_fit": null,
            "object_position": null,
            "order": null,
            "overflow": null,
            "overflow_x": null,
            "overflow_y": null,
            "padding": null,
            "right": null,
            "top": null,
            "visibility": null,
            "width": null
          }
        },
        "ce2f66483cfc4c62a26fef58fd9e7d2f": {
          "model_module": "@jupyter-widgets/base",
          "model_name": "LayoutModel",
          "model_module_version": "1.2.0",
          "state": {
            "_model_module": "@jupyter-widgets/base",
            "_model_module_version": "1.2.0",
            "_model_name": "LayoutModel",
            "_view_count": null,
            "_view_module": "@jupyter-widgets/base",
            "_view_module_version": "1.2.0",
            "_view_name": "LayoutView",
            "align_content": null,
            "align_items": null,
            "align_self": null,
            "border": null,
            "bottom": null,
            "display": null,
            "flex": null,
            "flex_flow": null,
            "grid_area": null,
            "grid_auto_columns": null,
            "grid_auto_flow": null,
            "grid_auto_rows": null,
            "grid_column": null,
            "grid_gap": null,
            "grid_row": null,
            "grid_template_areas": null,
            "grid_template_columns": null,
            "grid_template_rows": null,
            "height": null,
            "justify_content": null,
            "justify_items": null,
            "left": null,
            "margin": null,
            "max_height": null,
            "max_width": null,
            "min_height": null,
            "min_width": null,
            "object_fit": null,
            "object_position": null,
            "order": null,
            "overflow": null,
            "overflow_x": null,
            "overflow_y": null,
            "padding": null,
            "right": null,
            "top": null,
            "visibility": null,
            "width": null
          }
        },
        "ccd04df758974db7a7ce21d80df55fe7": {
          "model_module": "@jupyter-widgets/controls",
          "model_name": "DescriptionStyleModel",
          "model_module_version": "1.5.0",
          "state": {
            "_model_module": "@jupyter-widgets/controls",
            "_model_module_version": "1.5.0",
            "_model_name": "DescriptionStyleModel",
            "_view_count": null,
            "_view_module": "@jupyter-widgets/base",
            "_view_module_version": "1.2.0",
            "_view_name": "StyleView",
            "description_width": ""
          }
        },
        "965a0c3c20ac4c78a568307bd4510962": {
          "model_module": "@jupyter-widgets/base",
          "model_name": "LayoutModel",
          "model_module_version": "1.2.0",
          "state": {
            "_model_module": "@jupyter-widgets/base",
            "_model_module_version": "1.2.0",
            "_model_name": "LayoutModel",
            "_view_count": null,
            "_view_module": "@jupyter-widgets/base",
            "_view_module_version": "1.2.0",
            "_view_name": "LayoutView",
            "align_content": null,
            "align_items": null,
            "align_self": null,
            "border": null,
            "bottom": null,
            "display": null,
            "flex": null,
            "flex_flow": null,
            "grid_area": null,
            "grid_auto_columns": null,
            "grid_auto_flow": null,
            "grid_auto_rows": null,
            "grid_column": null,
            "grid_gap": null,
            "grid_row": null,
            "grid_template_areas": null,
            "grid_template_columns": null,
            "grid_template_rows": null,
            "height": null,
            "justify_content": null,
            "justify_items": null,
            "left": null,
            "margin": null,
            "max_height": null,
            "max_width": null,
            "min_height": null,
            "min_width": null,
            "object_fit": null,
            "object_position": null,
            "order": null,
            "overflow": null,
            "overflow_x": null,
            "overflow_y": null,
            "padding": null,
            "right": null,
            "top": null,
            "visibility": null,
            "width": null
          }
        },
        "8cdc3e8c0382474496d90acf8242c78f": {
          "model_module": "@jupyter-widgets/controls",
          "model_name": "ProgressStyleModel",
          "model_module_version": "1.5.0",
          "state": {
            "_model_module": "@jupyter-widgets/controls",
            "_model_module_version": "1.5.0",
            "_model_name": "ProgressStyleModel",
            "_view_count": null,
            "_view_module": "@jupyter-widgets/base",
            "_view_module_version": "1.2.0",
            "_view_name": "StyleView",
            "bar_color": null,
            "description_width": ""
          }
        },
        "079c3f3e225441818b844a130098f846": {
          "model_module": "@jupyter-widgets/base",
          "model_name": "LayoutModel",
          "model_module_version": "1.2.0",
          "state": {
            "_model_module": "@jupyter-widgets/base",
            "_model_module_version": "1.2.0",
            "_model_name": "LayoutModel",
            "_view_count": null,
            "_view_module": "@jupyter-widgets/base",
            "_view_module_version": "1.2.0",
            "_view_name": "LayoutView",
            "align_content": null,
            "align_items": null,
            "align_self": null,
            "border": null,
            "bottom": null,
            "display": null,
            "flex": null,
            "flex_flow": null,
            "grid_area": null,
            "grid_auto_columns": null,
            "grid_auto_flow": null,
            "grid_auto_rows": null,
            "grid_column": null,
            "grid_gap": null,
            "grid_row": null,
            "grid_template_areas": null,
            "grid_template_columns": null,
            "grid_template_rows": null,
            "height": null,
            "justify_content": null,
            "justify_items": null,
            "left": null,
            "margin": null,
            "max_height": null,
            "max_width": null,
            "min_height": null,
            "min_width": null,
            "object_fit": null,
            "object_position": null,
            "order": null,
            "overflow": null,
            "overflow_x": null,
            "overflow_y": null,
            "padding": null,
            "right": null,
            "top": null,
            "visibility": null,
            "width": null
          }
        },
        "c0afa77cf25d4e029beae66d53e3a3a6": {
          "model_module": "@jupyter-widgets/controls",
          "model_name": "DescriptionStyleModel",
          "model_module_version": "1.5.0",
          "state": {
            "_model_module": "@jupyter-widgets/controls",
            "_model_module_version": "1.5.0",
            "_model_name": "DescriptionStyleModel",
            "_view_count": null,
            "_view_module": "@jupyter-widgets/base",
            "_view_module_version": "1.2.0",
            "_view_name": "StyleView",
            "description_width": ""
          }
        },
        "1203b7bbd6424b32a3838e4951177a24": {
          "model_module": "@jupyter-widgets/controls",
          "model_name": "HBoxModel",
          "model_module_version": "1.5.0",
          "state": {
            "_dom_classes": [],
            "_model_module": "@jupyter-widgets/controls",
            "_model_module_version": "1.5.0",
            "_model_name": "HBoxModel",
            "_view_count": null,
            "_view_module": "@jupyter-widgets/controls",
            "_view_module_version": "1.5.0",
            "_view_name": "HBoxView",
            "box_style": "",
            "children": [
              "IPY_MODEL_10977f9da53f46109b3bac836c666208",
              "IPY_MODEL_93e1bf3d0d814a54836e1bc58cd475ab",
              "IPY_MODEL_3839724a81db491ba544dae7df88f074"
            ],
            "layout": "IPY_MODEL_8a724bf80db94219b7095064ca601108"
          }
        },
        "10977f9da53f46109b3bac836c666208": {
          "model_module": "@jupyter-widgets/controls",
          "model_name": "HTMLModel",
          "model_module_version": "1.5.0",
          "state": {
            "_dom_classes": [],
            "_model_module": "@jupyter-widgets/controls",
            "_model_module_version": "1.5.0",
            "_model_name": "HTMLModel",
            "_view_count": null,
            "_view_module": "@jupyter-widgets/controls",
            "_view_module_version": "1.5.0",
            "_view_name": "HTMLView",
            "description": "",
            "description_tooltip": null,
            "layout": "IPY_MODEL_c8cd2f9c07ab4a0488f0353a79e120d5",
            "placeholder": "​",
            "style": "IPY_MODEL_d14e8434759e4528b1b476d07af1d8fc",
            "value": "special_tokens_map.json: 100%"
          }
        },
        "93e1bf3d0d814a54836e1bc58cd475ab": {
          "model_module": "@jupyter-widgets/controls",
          "model_name": "FloatProgressModel",
          "model_module_version": "1.5.0",
          "state": {
            "_dom_classes": [],
            "_model_module": "@jupyter-widgets/controls",
            "_model_module_version": "1.5.0",
            "_model_name": "FloatProgressModel",
            "_view_count": null,
            "_view_module": "@jupyter-widgets/controls",
            "_view_module_version": "1.5.0",
            "_view_name": "ProgressView",
            "bar_style": "success",
            "description": "",
            "description_tooltip": null,
            "layout": "IPY_MODEL_81e61c4ed3a74b17b34bca8304fa12cd",
            "max": 695,
            "min": 0,
            "orientation": "horizontal",
            "style": "IPY_MODEL_432a49a720be4e749d5551c3651f1012",
            "value": 695
          }
        },
        "3839724a81db491ba544dae7df88f074": {
          "model_module": "@jupyter-widgets/controls",
          "model_name": "HTMLModel",
          "model_module_version": "1.5.0",
          "state": {
            "_dom_classes": [],
            "_model_module": "@jupyter-widgets/controls",
            "_model_module_version": "1.5.0",
            "_model_name": "HTMLModel",
            "_view_count": null,
            "_view_module": "@jupyter-widgets/controls",
            "_view_module_version": "1.5.0",
            "_view_name": "HTMLView",
            "description": "",
            "description_tooltip": null,
            "layout": "IPY_MODEL_455a52a73ac84e50bf256c62aee32c80",
            "placeholder": "​",
            "style": "IPY_MODEL_52cf9af98c8f4b07832f4bfbffb8b5d8",
            "value": " 695/695 [00:00&lt;00:00, 10.6kB/s]"
          }
        },
        "8a724bf80db94219b7095064ca601108": {
          "model_module": "@jupyter-widgets/base",
          "model_name": "LayoutModel",
          "model_module_version": "1.2.0",
          "state": {
            "_model_module": "@jupyter-widgets/base",
            "_model_module_version": "1.2.0",
            "_model_name": "LayoutModel",
            "_view_count": null,
            "_view_module": "@jupyter-widgets/base",
            "_view_module_version": "1.2.0",
            "_view_name": "LayoutView",
            "align_content": null,
            "align_items": null,
            "align_self": null,
            "border": null,
            "bottom": null,
            "display": null,
            "flex": null,
            "flex_flow": null,
            "grid_area": null,
            "grid_auto_columns": null,
            "grid_auto_flow": null,
            "grid_auto_rows": null,
            "grid_column": null,
            "grid_gap": null,
            "grid_row": null,
            "grid_template_areas": null,
            "grid_template_columns": null,
            "grid_template_rows": null,
            "height": null,
            "justify_content": null,
            "justify_items": null,
            "left": null,
            "margin": null,
            "max_height": null,
            "max_width": null,
            "min_height": null,
            "min_width": null,
            "object_fit": null,
            "object_position": null,
            "order": null,
            "overflow": null,
            "overflow_x": null,
            "overflow_y": null,
            "padding": null,
            "right": null,
            "top": null,
            "visibility": null,
            "width": null
          }
        },
        "c8cd2f9c07ab4a0488f0353a79e120d5": {
          "model_module": "@jupyter-widgets/base",
          "model_name": "LayoutModel",
          "model_module_version": "1.2.0",
          "state": {
            "_model_module": "@jupyter-widgets/base",
            "_model_module_version": "1.2.0",
            "_model_name": "LayoutModel",
            "_view_count": null,
            "_view_module": "@jupyter-widgets/base",
            "_view_module_version": "1.2.0",
            "_view_name": "LayoutView",
            "align_content": null,
            "align_items": null,
            "align_self": null,
            "border": null,
            "bottom": null,
            "display": null,
            "flex": null,
            "flex_flow": null,
            "grid_area": null,
            "grid_auto_columns": null,
            "grid_auto_flow": null,
            "grid_auto_rows": null,
            "grid_column": null,
            "grid_gap": null,
            "grid_row": null,
            "grid_template_areas": null,
            "grid_template_columns": null,
            "grid_template_rows": null,
            "height": null,
            "justify_content": null,
            "justify_items": null,
            "left": null,
            "margin": null,
            "max_height": null,
            "max_width": null,
            "min_height": null,
            "min_width": null,
            "object_fit": null,
            "object_position": null,
            "order": null,
            "overflow": null,
            "overflow_x": null,
            "overflow_y": null,
            "padding": null,
            "right": null,
            "top": null,
            "visibility": null,
            "width": null
          }
        },
        "d14e8434759e4528b1b476d07af1d8fc": {
          "model_module": "@jupyter-widgets/controls",
          "model_name": "DescriptionStyleModel",
          "model_module_version": "1.5.0",
          "state": {
            "_model_module": "@jupyter-widgets/controls",
            "_model_module_version": "1.5.0",
            "_model_name": "DescriptionStyleModel",
            "_view_count": null,
            "_view_module": "@jupyter-widgets/base",
            "_view_module_version": "1.2.0",
            "_view_name": "StyleView",
            "description_width": ""
          }
        },
        "81e61c4ed3a74b17b34bca8304fa12cd": {
          "model_module": "@jupyter-widgets/base",
          "model_name": "LayoutModel",
          "model_module_version": "1.2.0",
          "state": {
            "_model_module": "@jupyter-widgets/base",
            "_model_module_version": "1.2.0",
            "_model_name": "LayoutModel",
            "_view_count": null,
            "_view_module": "@jupyter-widgets/base",
            "_view_module_version": "1.2.0",
            "_view_name": "LayoutView",
            "align_content": null,
            "align_items": null,
            "align_self": null,
            "border": null,
            "bottom": null,
            "display": null,
            "flex": null,
            "flex_flow": null,
            "grid_area": null,
            "grid_auto_columns": null,
            "grid_auto_flow": null,
            "grid_auto_rows": null,
            "grid_column": null,
            "grid_gap": null,
            "grid_row": null,
            "grid_template_areas": null,
            "grid_template_columns": null,
            "grid_template_rows": null,
            "height": null,
            "justify_content": null,
            "justify_items": null,
            "left": null,
            "margin": null,
            "max_height": null,
            "max_width": null,
            "min_height": null,
            "min_width": null,
            "object_fit": null,
            "object_position": null,
            "order": null,
            "overflow": null,
            "overflow_x": null,
            "overflow_y": null,
            "padding": null,
            "right": null,
            "top": null,
            "visibility": null,
            "width": null
          }
        },
        "432a49a720be4e749d5551c3651f1012": {
          "model_module": "@jupyter-widgets/controls",
          "model_name": "ProgressStyleModel",
          "model_module_version": "1.5.0",
          "state": {
            "_model_module": "@jupyter-widgets/controls",
            "_model_module_version": "1.5.0",
            "_model_name": "ProgressStyleModel",
            "_view_count": null,
            "_view_module": "@jupyter-widgets/base",
            "_view_module_version": "1.2.0",
            "_view_name": "StyleView",
            "bar_color": null,
            "description_width": ""
          }
        },
        "455a52a73ac84e50bf256c62aee32c80": {
          "model_module": "@jupyter-widgets/base",
          "model_name": "LayoutModel",
          "model_module_version": "1.2.0",
          "state": {
            "_model_module": "@jupyter-widgets/base",
            "_model_module_version": "1.2.0",
            "_model_name": "LayoutModel",
            "_view_count": null,
            "_view_module": "@jupyter-widgets/base",
            "_view_module_version": "1.2.0",
            "_view_name": "LayoutView",
            "align_content": null,
            "align_items": null,
            "align_self": null,
            "border": null,
            "bottom": null,
            "display": null,
            "flex": null,
            "flex_flow": null,
            "grid_area": null,
            "grid_auto_columns": null,
            "grid_auto_flow": null,
            "grid_auto_rows": null,
            "grid_column": null,
            "grid_gap": null,
            "grid_row": null,
            "grid_template_areas": null,
            "grid_template_columns": null,
            "grid_template_rows": null,
            "height": null,
            "justify_content": null,
            "justify_items": null,
            "left": null,
            "margin": null,
            "max_height": null,
            "max_width": null,
            "min_height": null,
            "min_width": null,
            "object_fit": null,
            "object_position": null,
            "order": null,
            "overflow": null,
            "overflow_x": null,
            "overflow_y": null,
            "padding": null,
            "right": null,
            "top": null,
            "visibility": null,
            "width": null
          }
        },
        "52cf9af98c8f4b07832f4bfbffb8b5d8": {
          "model_module": "@jupyter-widgets/controls",
          "model_name": "DescriptionStyleModel",
          "model_module_version": "1.5.0",
          "state": {
            "_model_module": "@jupyter-widgets/controls",
            "_model_module_version": "1.5.0",
            "_model_name": "DescriptionStyleModel",
            "_view_count": null,
            "_view_module": "@jupyter-widgets/base",
            "_view_module_version": "1.2.0",
            "_view_name": "StyleView",
            "description_width": ""
          }
        },
        "aaa0663e5a054788810e094477897d2b": {
          "model_module": "@jupyter-widgets/controls",
          "model_name": "HBoxModel",
          "model_module_version": "1.5.0",
          "state": {
            "_dom_classes": [],
            "_model_module": "@jupyter-widgets/controls",
            "_model_module_version": "1.5.0",
            "_model_name": "HBoxModel",
            "_view_count": null,
            "_view_module": "@jupyter-widgets/controls",
            "_view_module_version": "1.5.0",
            "_view_name": "HBoxView",
            "box_style": "",
            "children": [
              "IPY_MODEL_4d53285a2215424ba155930001c9470a",
              "IPY_MODEL_ee1d5ae14b6a4394a5c8b50b9d57a7b3",
              "IPY_MODEL_e7a2336743604c17ac0c60b72592a8f4"
            ],
            "layout": "IPY_MODEL_29e3c3054d8b4391a7fed4fa4488eb8d"
          }
        },
        "4d53285a2215424ba155930001c9470a": {
          "model_module": "@jupyter-widgets/controls",
          "model_name": "HTMLModel",
          "model_module_version": "1.5.0",
          "state": {
            "_dom_classes": [],
            "_model_module": "@jupyter-widgets/controls",
            "_model_module_version": "1.5.0",
            "_model_name": "HTMLModel",
            "_view_count": null,
            "_view_module": "@jupyter-widgets/controls",
            "_view_module_version": "1.5.0",
            "_view_name": "HTMLView",
            "description": "",
            "description_tooltip": null,
            "layout": "IPY_MODEL_1d69e179c9864d90bcdf38597665c027",
            "placeholder": "​",
            "style": "IPY_MODEL_699a2c4699d94fe788be92f35f951c45",
            "value": "tokenizer.json: 100%"
          }
        },
        "ee1d5ae14b6a4394a5c8b50b9d57a7b3": {
          "model_module": "@jupyter-widgets/controls",
          "model_name": "FloatProgressModel",
          "model_module_version": "1.5.0",
          "state": {
            "_dom_classes": [],
            "_model_module": "@jupyter-widgets/controls",
            "_model_module_version": "1.5.0",
            "_model_name": "FloatProgressModel",
            "_view_count": null,
            "_view_module": "@jupyter-widgets/controls",
            "_view_module_version": "1.5.0",
            "_view_name": "ProgressView",
            "bar_style": "success",
            "description": "",
            "description_tooltip": null,
            "layout": "IPY_MODEL_e3be3a30a0ee4a319bde9b0560b36000",
            "max": 711396,
            "min": 0,
            "orientation": "horizontal",
            "style": "IPY_MODEL_0fac8d4e8ff544b2ba0aa9bfc7325731",
            "value": 711396
          }
        },
        "e7a2336743604c17ac0c60b72592a8f4": {
          "model_module": "@jupyter-widgets/controls",
          "model_name": "HTMLModel",
          "model_module_version": "1.5.0",
          "state": {
            "_dom_classes": [],
            "_model_module": "@jupyter-widgets/controls",
            "_model_module_version": "1.5.0",
            "_model_name": "HTMLModel",
            "_view_count": null,
            "_view_module": "@jupyter-widgets/controls",
            "_view_module_version": "1.5.0",
            "_view_name": "HTMLView",
            "description": "",
            "description_tooltip": null,
            "layout": "IPY_MODEL_3361f9ba50964c77a5ee3bb84eb9d7d8",
            "placeholder": "​",
            "style": "IPY_MODEL_139727dade2d4626b2b5775fefa4066c",
            "value": " 711k/711k [00:00&lt;00:00, 4.31MB/s]"
          }
        },
        "29e3c3054d8b4391a7fed4fa4488eb8d": {
          "model_module": "@jupyter-widgets/base",
          "model_name": "LayoutModel",
          "model_module_version": "1.2.0",
          "state": {
            "_model_module": "@jupyter-widgets/base",
            "_model_module_version": "1.2.0",
            "_model_name": "LayoutModel",
            "_view_count": null,
            "_view_module": "@jupyter-widgets/base",
            "_view_module_version": "1.2.0",
            "_view_name": "LayoutView",
            "align_content": null,
            "align_items": null,
            "align_self": null,
            "border": null,
            "bottom": null,
            "display": null,
            "flex": null,
            "flex_flow": null,
            "grid_area": null,
            "grid_auto_columns": null,
            "grid_auto_flow": null,
            "grid_auto_rows": null,
            "grid_column": null,
            "grid_gap": null,
            "grid_row": null,
            "grid_template_areas": null,
            "grid_template_columns": null,
            "grid_template_rows": null,
            "height": null,
            "justify_content": null,
            "justify_items": null,
            "left": null,
            "margin": null,
            "max_height": null,
            "max_width": null,
            "min_height": null,
            "min_width": null,
            "object_fit": null,
            "object_position": null,
            "order": null,
            "overflow": null,
            "overflow_x": null,
            "overflow_y": null,
            "padding": null,
            "right": null,
            "top": null,
            "visibility": null,
            "width": null
          }
        },
        "1d69e179c9864d90bcdf38597665c027": {
          "model_module": "@jupyter-widgets/base",
          "model_name": "LayoutModel",
          "model_module_version": "1.2.0",
          "state": {
            "_model_module": "@jupyter-widgets/base",
            "_model_module_version": "1.2.0",
            "_model_name": "LayoutModel",
            "_view_count": null,
            "_view_module": "@jupyter-widgets/base",
            "_view_module_version": "1.2.0",
            "_view_name": "LayoutView",
            "align_content": null,
            "align_items": null,
            "align_self": null,
            "border": null,
            "bottom": null,
            "display": null,
            "flex": null,
            "flex_flow": null,
            "grid_area": null,
            "grid_auto_columns": null,
            "grid_auto_flow": null,
            "grid_auto_rows": null,
            "grid_column": null,
            "grid_gap": null,
            "grid_row": null,
            "grid_template_areas": null,
            "grid_template_columns": null,
            "grid_template_rows": null,
            "height": null,
            "justify_content": null,
            "justify_items": null,
            "left": null,
            "margin": null,
            "max_height": null,
            "max_width": null,
            "min_height": null,
            "min_width": null,
            "object_fit": null,
            "object_position": null,
            "order": null,
            "overflow": null,
            "overflow_x": null,
            "overflow_y": null,
            "padding": null,
            "right": null,
            "top": null,
            "visibility": null,
            "width": null
          }
        },
        "699a2c4699d94fe788be92f35f951c45": {
          "model_module": "@jupyter-widgets/controls",
          "model_name": "DescriptionStyleModel",
          "model_module_version": "1.5.0",
          "state": {
            "_model_module": "@jupyter-widgets/controls",
            "_model_module_version": "1.5.0",
            "_model_name": "DescriptionStyleModel",
            "_view_count": null,
            "_view_module": "@jupyter-widgets/base",
            "_view_module_version": "1.2.0",
            "_view_name": "StyleView",
            "description_width": ""
          }
        },
        "e3be3a30a0ee4a319bde9b0560b36000": {
          "model_module": "@jupyter-widgets/base",
          "model_name": "LayoutModel",
          "model_module_version": "1.2.0",
          "state": {
            "_model_module": "@jupyter-widgets/base",
            "_model_module_version": "1.2.0",
            "_model_name": "LayoutModel",
            "_view_count": null,
            "_view_module": "@jupyter-widgets/base",
            "_view_module_version": "1.2.0",
            "_view_name": "LayoutView",
            "align_content": null,
            "align_items": null,
            "align_self": null,
            "border": null,
            "bottom": null,
            "display": null,
            "flex": null,
            "flex_flow": null,
            "grid_area": null,
            "grid_auto_columns": null,
            "grid_auto_flow": null,
            "grid_auto_rows": null,
            "grid_column": null,
            "grid_gap": null,
            "grid_row": null,
            "grid_template_areas": null,
            "grid_template_columns": null,
            "grid_template_rows": null,
            "height": null,
            "justify_content": null,
            "justify_items": null,
            "left": null,
            "margin": null,
            "max_height": null,
            "max_width": null,
            "min_height": null,
            "min_width": null,
            "object_fit": null,
            "object_position": null,
            "order": null,
            "overflow": null,
            "overflow_x": null,
            "overflow_y": null,
            "padding": null,
            "right": null,
            "top": null,
            "visibility": null,
            "width": null
          }
        },
        "0fac8d4e8ff544b2ba0aa9bfc7325731": {
          "model_module": "@jupyter-widgets/controls",
          "model_name": "ProgressStyleModel",
          "model_module_version": "1.5.0",
          "state": {
            "_model_module": "@jupyter-widgets/controls",
            "_model_module_version": "1.5.0",
            "_model_name": "ProgressStyleModel",
            "_view_count": null,
            "_view_module": "@jupyter-widgets/base",
            "_view_module_version": "1.2.0",
            "_view_name": "StyleView",
            "bar_color": null,
            "description_width": ""
          }
        },
        "3361f9ba50964c77a5ee3bb84eb9d7d8": {
          "model_module": "@jupyter-widgets/base",
          "model_name": "LayoutModel",
          "model_module_version": "1.2.0",
          "state": {
            "_model_module": "@jupyter-widgets/base",
            "_model_module_version": "1.2.0",
            "_model_name": "LayoutModel",
            "_view_count": null,
            "_view_module": "@jupyter-widgets/base",
            "_view_module_version": "1.2.0",
            "_view_name": "LayoutView",
            "align_content": null,
            "align_items": null,
            "align_self": null,
            "border": null,
            "bottom": null,
            "display": null,
            "flex": null,
            "flex_flow": null,
            "grid_area": null,
            "grid_auto_columns": null,
            "grid_auto_flow": null,
            "grid_auto_rows": null,
            "grid_column": null,
            "grid_gap": null,
            "grid_row": null,
            "grid_template_areas": null,
            "grid_template_columns": null,
            "grid_template_rows": null,
            "height": null,
            "justify_content": null,
            "justify_items": null,
            "left": null,
            "margin": null,
            "max_height": null,
            "max_width": null,
            "min_height": null,
            "min_width": null,
            "object_fit": null,
            "object_position": null,
            "order": null,
            "overflow": null,
            "overflow_x": null,
            "overflow_y": null,
            "padding": null,
            "right": null,
            "top": null,
            "visibility": null,
            "width": null
          }
        },
        "139727dade2d4626b2b5775fefa4066c": {
          "model_module": "@jupyter-widgets/controls",
          "model_name": "DescriptionStyleModel",
          "model_module_version": "1.5.0",
          "state": {
            "_model_module": "@jupyter-widgets/controls",
            "_model_module_version": "1.5.0",
            "_model_name": "DescriptionStyleModel",
            "_view_count": null,
            "_view_module": "@jupyter-widgets/base",
            "_view_module_version": "1.2.0",
            "_view_name": "StyleView",
            "description_width": ""
          }
        },
        "59187e48664445e09f976584eb6805c4": {
          "model_module": "@jupyter-widgets/controls",
          "model_name": "HBoxModel",
          "model_module_version": "1.5.0",
          "state": {
            "_dom_classes": [],
            "_model_module": "@jupyter-widgets/controls",
            "_model_module_version": "1.5.0",
            "_model_name": "HBoxModel",
            "_view_count": null,
            "_view_module": "@jupyter-widgets/controls",
            "_view_module_version": "1.5.0",
            "_view_name": "HBoxView",
            "box_style": "",
            "children": [
              "IPY_MODEL_34178ed24fe44940a90afff5f98356db",
              "IPY_MODEL_d3d3211651b14092972a236f7820b208",
              "IPY_MODEL_234a026456044c23a44146991823d10d"
            ],
            "layout": "IPY_MODEL_36367260cdbf483386284ba9d03c9d6e"
          }
        },
        "34178ed24fe44940a90afff5f98356db": {
          "model_module": "@jupyter-widgets/controls",
          "model_name": "HTMLModel",
          "model_module_version": "1.5.0",
          "state": {
            "_dom_classes": [],
            "_model_module": "@jupyter-widgets/controls",
            "_model_module_version": "1.5.0",
            "_model_name": "HTMLModel",
            "_view_count": null,
            "_view_module": "@jupyter-widgets/controls",
            "_view_module_version": "1.5.0",
            "_view_name": "HTMLView",
            "description": "",
            "description_tooltip": null,
            "layout": "IPY_MODEL_41a1baa16a8c4f6cb39bf6f4371f095a",
            "placeholder": "​",
            "style": "IPY_MODEL_a7b929ccd5694aee8e11b8af67725e30",
            "value": "config.json: 100%"
          }
        },
        "d3d3211651b14092972a236f7820b208": {
          "model_module": "@jupyter-widgets/controls",
          "model_name": "FloatProgressModel",
          "model_module_version": "1.5.0",
          "state": {
            "_dom_classes": [],
            "_model_module": "@jupyter-widgets/controls",
            "_model_module_version": "1.5.0",
            "_model_name": "FloatProgressModel",
            "_view_count": null,
            "_view_module": "@jupyter-widgets/controls",
            "_view_module_version": "1.5.0",
            "_view_name": "ProgressView",
            "bar_style": "success",
            "description": "",
            "description_tooltip": null,
            "layout": "IPY_MODEL_cc025e85d02c406caa35a1af0f259585",
            "max": 740,
            "min": 0,
            "orientation": "horizontal",
            "style": "IPY_MODEL_727fcbd0068a4fda9310aafa049fe8ac",
            "value": 740
          }
        },
        "234a026456044c23a44146991823d10d": {
          "model_module": "@jupyter-widgets/controls",
          "model_name": "HTMLModel",
          "model_module_version": "1.5.0",
          "state": {
            "_dom_classes": [],
            "_model_module": "@jupyter-widgets/controls",
            "_model_module_version": "1.5.0",
            "_model_name": "HTMLModel",
            "_view_count": null,
            "_view_module": "@jupyter-widgets/controls",
            "_view_module_version": "1.5.0",
            "_view_name": "HTMLView",
            "description": "",
            "description_tooltip": null,
            "layout": "IPY_MODEL_35ac1380862946aa92e5dfcfae0e4f39",
            "placeholder": "​",
            "style": "IPY_MODEL_a2b2e9a94d114ecd81dd2a2119752ca1",
            "value": " 740/740 [00:00&lt;00:00, 6.59kB/s]"
          }
        },
        "36367260cdbf483386284ba9d03c9d6e": {
          "model_module": "@jupyter-widgets/base",
          "model_name": "LayoutModel",
          "model_module_version": "1.2.0",
          "state": {
            "_model_module": "@jupyter-widgets/base",
            "_model_module_version": "1.2.0",
            "_model_name": "LayoutModel",
            "_view_count": null,
            "_view_module": "@jupyter-widgets/base",
            "_view_module_version": "1.2.0",
            "_view_name": "LayoutView",
            "align_content": null,
            "align_items": null,
            "align_self": null,
            "border": null,
            "bottom": null,
            "display": null,
            "flex": null,
            "flex_flow": null,
            "grid_area": null,
            "grid_auto_columns": null,
            "grid_auto_flow": null,
            "grid_auto_rows": null,
            "grid_column": null,
            "grid_gap": null,
            "grid_row": null,
            "grid_template_areas": null,
            "grid_template_columns": null,
            "grid_template_rows": null,
            "height": null,
            "justify_content": null,
            "justify_items": null,
            "left": null,
            "margin": null,
            "max_height": null,
            "max_width": null,
            "min_height": null,
            "min_width": null,
            "object_fit": null,
            "object_position": null,
            "order": null,
            "overflow": null,
            "overflow_x": null,
            "overflow_y": null,
            "padding": null,
            "right": null,
            "top": null,
            "visibility": null,
            "width": null
          }
        },
        "41a1baa16a8c4f6cb39bf6f4371f095a": {
          "model_module": "@jupyter-widgets/base",
          "model_name": "LayoutModel",
          "model_module_version": "1.2.0",
          "state": {
            "_model_module": "@jupyter-widgets/base",
            "_model_module_version": "1.2.0",
            "_model_name": "LayoutModel",
            "_view_count": null,
            "_view_module": "@jupyter-widgets/base",
            "_view_module_version": "1.2.0",
            "_view_name": "LayoutView",
            "align_content": null,
            "align_items": null,
            "align_self": null,
            "border": null,
            "bottom": null,
            "display": null,
            "flex": null,
            "flex_flow": null,
            "grid_area": null,
            "grid_auto_columns": null,
            "grid_auto_flow": null,
            "grid_auto_rows": null,
            "grid_column": null,
            "grid_gap": null,
            "grid_row": null,
            "grid_template_areas": null,
            "grid_template_columns": null,
            "grid_template_rows": null,
            "height": null,
            "justify_content": null,
            "justify_items": null,
            "left": null,
            "margin": null,
            "max_height": null,
            "max_width": null,
            "min_height": null,
            "min_width": null,
            "object_fit": null,
            "object_position": null,
            "order": null,
            "overflow": null,
            "overflow_x": null,
            "overflow_y": null,
            "padding": null,
            "right": null,
            "top": null,
            "visibility": null,
            "width": null
          }
        },
        "a7b929ccd5694aee8e11b8af67725e30": {
          "model_module": "@jupyter-widgets/controls",
          "model_name": "DescriptionStyleModel",
          "model_module_version": "1.5.0",
          "state": {
            "_model_module": "@jupyter-widgets/controls",
            "_model_module_version": "1.5.0",
            "_model_name": "DescriptionStyleModel",
            "_view_count": null,
            "_view_module": "@jupyter-widgets/base",
            "_view_module_version": "1.2.0",
            "_view_name": "StyleView",
            "description_width": ""
          }
        },
        "cc025e85d02c406caa35a1af0f259585": {
          "model_module": "@jupyter-widgets/base",
          "model_name": "LayoutModel",
          "model_module_version": "1.2.0",
          "state": {
            "_model_module": "@jupyter-widgets/base",
            "_model_module_version": "1.2.0",
            "_model_name": "LayoutModel",
            "_view_count": null,
            "_view_module": "@jupyter-widgets/base",
            "_view_module_version": "1.2.0",
            "_view_name": "LayoutView",
            "align_content": null,
            "align_items": null,
            "align_self": null,
            "border": null,
            "bottom": null,
            "display": null,
            "flex": null,
            "flex_flow": null,
            "grid_area": null,
            "grid_auto_columns": null,
            "grid_auto_flow": null,
            "grid_auto_rows": null,
            "grid_column": null,
            "grid_gap": null,
            "grid_row": null,
            "grid_template_areas": null,
            "grid_template_columns": null,
            "grid_template_rows": null,
            "height": null,
            "justify_content": null,
            "justify_items": null,
            "left": null,
            "margin": null,
            "max_height": null,
            "max_width": null,
            "min_height": null,
            "min_width": null,
            "object_fit": null,
            "object_position": null,
            "order": null,
            "overflow": null,
            "overflow_x": null,
            "overflow_y": null,
            "padding": null,
            "right": null,
            "top": null,
            "visibility": null,
            "width": null
          }
        },
        "727fcbd0068a4fda9310aafa049fe8ac": {
          "model_module": "@jupyter-widgets/controls",
          "model_name": "ProgressStyleModel",
          "model_module_version": "1.5.0",
          "state": {
            "_model_module": "@jupyter-widgets/controls",
            "_model_module_version": "1.5.0",
            "_model_name": "ProgressStyleModel",
            "_view_count": null,
            "_view_module": "@jupyter-widgets/base",
            "_view_module_version": "1.2.0",
            "_view_name": "StyleView",
            "bar_color": null,
            "description_width": ""
          }
        },
        "35ac1380862946aa92e5dfcfae0e4f39": {
          "model_module": "@jupyter-widgets/base",
          "model_name": "LayoutModel",
          "model_module_version": "1.2.0",
          "state": {
            "_model_module": "@jupyter-widgets/base",
            "_model_module_version": "1.2.0",
            "_model_name": "LayoutModel",
            "_view_count": null,
            "_view_module": "@jupyter-widgets/base",
            "_view_module_version": "1.2.0",
            "_view_name": "LayoutView",
            "align_content": null,
            "align_items": null,
            "align_self": null,
            "border": null,
            "bottom": null,
            "display": null,
            "flex": null,
            "flex_flow": null,
            "grid_area": null,
            "grid_auto_columns": null,
            "grid_auto_flow": null,
            "grid_auto_rows": null,
            "grid_column": null,
            "grid_gap": null,
            "grid_row": null,
            "grid_template_areas": null,
            "grid_template_columns": null,
            "grid_template_rows": null,
            "height": null,
            "justify_content": null,
            "justify_items": null,
            "left": null,
            "margin": null,
            "max_height": null,
            "max_width": null,
            "min_height": null,
            "min_width": null,
            "object_fit": null,
            "object_position": null,
            "order": null,
            "overflow": null,
            "overflow_x": null,
            "overflow_y": null,
            "padding": null,
            "right": null,
            "top": null,
            "visibility": null,
            "width": null
          }
        },
        "a2b2e9a94d114ecd81dd2a2119752ca1": {
          "model_module": "@jupyter-widgets/controls",
          "model_name": "DescriptionStyleModel",
          "model_module_version": "1.5.0",
          "state": {
            "_model_module": "@jupyter-widgets/controls",
            "_model_module_version": "1.5.0",
            "_model_name": "DescriptionStyleModel",
            "_view_count": null,
            "_view_module": "@jupyter-widgets/base",
            "_view_module_version": "1.2.0",
            "_view_name": "StyleView",
            "description_width": ""
          }
        }
      }
    }
  },
  "cells": [
    {
      "cell_type": "code",
      "source": [
        "!pip install -q youtube-transcript-api langchain_community tiktoken langchain-openai langchainhub chromadb langchain langchain-core langchain_google_genai llama_index qdrant-client sentence-transformers fastembed llama-index-llms-groq"
      ],
      "metadata": {
        "id": "UFdJy4QZ1E8H"
      },
      "execution_count": 3,
      "outputs": []
    },
    {
      "cell_type": "code",
      "source": [
        "%pip install llama-index-vector-stores-qdrant llama-index-readers-file llama-index-embeddings-fastembed"
      ],
      "metadata": {
        "id": "beKS6VJ1Vhzw",
        "colab": {
          "base_uri": "https://localhost:8080/"
        },
        "collapsed": true,
        "outputId": "92fb01d9-f6c1-4765-9549-fd48e2017473"
      },
      "execution_count": 2,
      "outputs": [
        {
          "output_type": "stream",
          "name": "stdout",
          "text": [
            "Collecting llama-index-vector-stores-qdrant\n",
            "  Downloading llama_index_vector_stores_qdrant-0.3.0-py3-none-any.whl.metadata (767 bytes)\n",
            "Requirement already satisfied: llama-index-readers-file in /usr/local/lib/python3.10/dist-packages (0.2.1)\n",
            "Collecting llama-index-embeddings-fastembed\n",
            "  Downloading llama_index_embeddings_fastembed-0.2.0-py3-none-any.whl.metadata (697 bytes)\n",
            "Requirement already satisfied: grpcio<2.0.0,>=1.60.0 in /usr/local/lib/python3.10/dist-packages (from llama-index-vector-stores-qdrant) (1.64.1)\n",
            "Requirement already satisfied: llama-index-core<0.12.0,>=0.11.0 in /usr/local/lib/python3.10/dist-packages (from llama-index-vector-stores-qdrant) (0.11.9)\n",
            "Requirement already satisfied: qdrant-client>=1.7.1 in /usr/local/lib/python3.10/dist-packages (from llama-index-vector-stores-qdrant) (1.11.1)\n",
            "Requirement already satisfied: beautifulsoup4<5.0.0,>=4.12.3 in /usr/local/lib/python3.10/dist-packages (from llama-index-readers-file) (4.12.3)\n",
            "Requirement already satisfied: pandas in /usr/local/lib/python3.10/dist-packages (from llama-index-readers-file) (2.1.4)\n",
            "Requirement already satisfied: pypdf<5.0.0,>=4.0.1 in /usr/local/lib/python3.10/dist-packages (from llama-index-readers-file) (4.3.1)\n",
            "Requirement already satisfied: striprtf<0.0.27,>=0.0.26 in /usr/local/lib/python3.10/dist-packages (from llama-index-readers-file) (0.0.26)\n",
            "Requirement already satisfied: fastembed>=0.2.2 in /usr/local/lib/python3.10/dist-packages (from llama-index-embeddings-fastembed) (0.3.6)\n",
            "Requirement already satisfied: soupsieve>1.2 in /usr/local/lib/python3.10/dist-packages (from beautifulsoup4<5.0.0,>=4.12.3->llama-index-readers-file) (2.6)\n",
            "Requirement already satisfied: PyStemmer<3.0.0,>=2.2.0 in /usr/local/lib/python3.10/dist-packages (from fastembed>=0.2.2->llama-index-embeddings-fastembed) (2.2.0.1)\n",
            "Requirement already satisfied: huggingface-hub<1.0,>=0.20 in /usr/local/lib/python3.10/dist-packages (from fastembed>=0.2.2->llama-index-embeddings-fastembed) (0.24.6)\n",
            "Requirement already satisfied: loguru<0.8.0,>=0.7.2 in /usr/local/lib/python3.10/dist-packages (from fastembed>=0.2.2->llama-index-embeddings-fastembed) (0.7.2)\n",
            "Requirement already satisfied: mmh3<5.0,>=4.0 in /usr/local/lib/python3.10/dist-packages (from fastembed>=0.2.2->llama-index-embeddings-fastembed) (4.1.0)\n",
            "Requirement already satisfied: numpy<2,>=1.21 in /usr/local/lib/python3.10/dist-packages (from fastembed>=0.2.2->llama-index-embeddings-fastembed) (1.26.4)\n",
            "Requirement already satisfied: onnx<2.0.0,>=1.15.0 in /usr/local/lib/python3.10/dist-packages (from fastembed>=0.2.2->llama-index-embeddings-fastembed) (1.16.2)\n",
            "Requirement already satisfied: onnxruntime<2.0.0,>=1.17.0 in /usr/local/lib/python3.10/dist-packages (from fastembed>=0.2.2->llama-index-embeddings-fastembed) (1.19.2)\n",
            "Requirement already satisfied: pillow<11.0.0,>=10.3.0 in /usr/local/lib/python3.10/dist-packages (from fastembed>=0.2.2->llama-index-embeddings-fastembed) (10.4.0)\n",
            "Requirement already satisfied: requests<3.0,>=2.31 in /usr/local/lib/python3.10/dist-packages (from fastembed>=0.2.2->llama-index-embeddings-fastembed) (2.32.3)\n",
            "Requirement already satisfied: snowballstemmer<3.0.0,>=2.2.0 in /usr/local/lib/python3.10/dist-packages (from fastembed>=0.2.2->llama-index-embeddings-fastembed) (2.2.0)\n",
            "Requirement already satisfied: tokenizers<1.0,>=0.15 in /usr/local/lib/python3.10/dist-packages (from fastembed>=0.2.2->llama-index-embeddings-fastembed) (0.19.1)\n",
            "Requirement already satisfied: tqdm<5.0,>=4.66 in /usr/local/lib/python3.10/dist-packages (from fastembed>=0.2.2->llama-index-embeddings-fastembed) (4.66.5)\n",
            "Requirement already satisfied: PyYAML>=6.0.1 in /usr/local/lib/python3.10/dist-packages (from llama-index-core<0.12.0,>=0.11.0->llama-index-vector-stores-qdrant) (6.0.2)\n",
            "Requirement already satisfied: SQLAlchemy>=1.4.49 in /usr/local/lib/python3.10/dist-packages (from SQLAlchemy[asyncio]>=1.4.49->llama-index-core<0.12.0,>=0.11.0->llama-index-vector-stores-qdrant) (2.0.34)\n",
            "Requirement already satisfied: aiohttp<4.0.0,>=3.8.6 in /usr/local/lib/python3.10/dist-packages (from llama-index-core<0.12.0,>=0.11.0->llama-index-vector-stores-qdrant) (3.10.5)\n",
            "Requirement already satisfied: dataclasses-json in /usr/local/lib/python3.10/dist-packages (from llama-index-core<0.12.0,>=0.11.0->llama-index-vector-stores-qdrant) (0.6.7)\n",
            "Requirement already satisfied: deprecated>=1.2.9.3 in /usr/local/lib/python3.10/dist-packages (from llama-index-core<0.12.0,>=0.11.0->llama-index-vector-stores-qdrant) (1.2.14)\n",
            "Requirement already satisfied: dirtyjson<2.0.0,>=1.0.8 in /usr/local/lib/python3.10/dist-packages (from llama-index-core<0.12.0,>=0.11.0->llama-index-vector-stores-qdrant) (1.0.8)\n",
            "Requirement already satisfied: fsspec>=2023.5.0 in /usr/local/lib/python3.10/dist-packages (from llama-index-core<0.12.0,>=0.11.0->llama-index-vector-stores-qdrant) (2024.6.1)\n",
            "Requirement already satisfied: httpx in /usr/local/lib/python3.10/dist-packages (from llama-index-core<0.12.0,>=0.11.0->llama-index-vector-stores-qdrant) (0.27.2)\n",
            "Requirement already satisfied: nest-asyncio<2.0.0,>=1.5.8 in /usr/local/lib/python3.10/dist-packages (from llama-index-core<0.12.0,>=0.11.0->llama-index-vector-stores-qdrant) (1.6.0)\n",
            "Requirement already satisfied: networkx>=3.0 in /usr/local/lib/python3.10/dist-packages (from llama-index-core<0.12.0,>=0.11.0->llama-index-vector-stores-qdrant) (3.3)\n",
            "Requirement already satisfied: nltk>3.8.1 in /usr/local/lib/python3.10/dist-packages (from llama-index-core<0.12.0,>=0.11.0->llama-index-vector-stores-qdrant) (3.9.1)\n",
            "Requirement already satisfied: pydantic<3.0.0,>=2.7.0 in /usr/local/lib/python3.10/dist-packages (from llama-index-core<0.12.0,>=0.11.0->llama-index-vector-stores-qdrant) (2.9.1)\n",
            "Requirement already satisfied: tenacity!=8.4.0,<9.0.0,>=8.2.0 in /usr/local/lib/python3.10/dist-packages (from llama-index-core<0.12.0,>=0.11.0->llama-index-vector-stores-qdrant) (8.5.0)\n",
            "Requirement already satisfied: tiktoken>=0.3.3 in /usr/local/lib/python3.10/dist-packages (from llama-index-core<0.12.0,>=0.11.0->llama-index-vector-stores-qdrant) (0.7.0)\n",
            "Requirement already satisfied: typing-extensions>=4.5.0 in /usr/local/lib/python3.10/dist-packages (from llama-index-core<0.12.0,>=0.11.0->llama-index-vector-stores-qdrant) (4.12.2)\n",
            "Requirement already satisfied: typing-inspect>=0.8.0 in /usr/local/lib/python3.10/dist-packages (from llama-index-core<0.12.0,>=0.11.0->llama-index-vector-stores-qdrant) (0.9.0)\n",
            "Requirement already satisfied: wrapt in /usr/local/lib/python3.10/dist-packages (from llama-index-core<0.12.0,>=0.11.0->llama-index-vector-stores-qdrant) (1.16.0)\n",
            "Requirement already satisfied: grpcio-tools>=1.41.0 in /usr/local/lib/python3.10/dist-packages (from qdrant-client>=1.7.1->llama-index-vector-stores-qdrant) (1.62.3)\n",
            "Requirement already satisfied: portalocker<3.0.0,>=2.7.0 in /usr/local/lib/python3.10/dist-packages (from qdrant-client>=1.7.1->llama-index-vector-stores-qdrant) (2.10.1)\n",
            "Requirement already satisfied: urllib3<3,>=1.26.14 in /usr/local/lib/python3.10/dist-packages (from qdrant-client>=1.7.1->llama-index-vector-stores-qdrant) (2.0.7)\n",
            "Requirement already satisfied: python-dateutil>=2.8.2 in /usr/local/lib/python3.10/dist-packages (from pandas->llama-index-readers-file) (2.8.2)\n",
            "Requirement already satisfied: pytz>=2020.1 in /usr/local/lib/python3.10/dist-packages (from pandas->llama-index-readers-file) (2024.1)\n",
            "Requirement already satisfied: tzdata>=2022.1 in /usr/local/lib/python3.10/dist-packages (from pandas->llama-index-readers-file) (2024.1)\n",
            "Requirement already satisfied: aiohappyeyeballs>=2.3.0 in /usr/local/lib/python3.10/dist-packages (from aiohttp<4.0.0,>=3.8.6->llama-index-core<0.12.0,>=0.11.0->llama-index-vector-stores-qdrant) (2.4.0)\n",
            "Requirement already satisfied: aiosignal>=1.1.2 in /usr/local/lib/python3.10/dist-packages (from aiohttp<4.0.0,>=3.8.6->llama-index-core<0.12.0,>=0.11.0->llama-index-vector-stores-qdrant) (1.3.1)\n",
            "Requirement already satisfied: attrs>=17.3.0 in /usr/local/lib/python3.10/dist-packages (from aiohttp<4.0.0,>=3.8.6->llama-index-core<0.12.0,>=0.11.0->llama-index-vector-stores-qdrant) (24.2.0)\n",
            "Requirement already satisfied: frozenlist>=1.1.1 in /usr/local/lib/python3.10/dist-packages (from aiohttp<4.0.0,>=3.8.6->llama-index-core<0.12.0,>=0.11.0->llama-index-vector-stores-qdrant) (1.4.1)\n",
            "Requirement already satisfied: multidict<7.0,>=4.5 in /usr/local/lib/python3.10/dist-packages (from aiohttp<4.0.0,>=3.8.6->llama-index-core<0.12.0,>=0.11.0->llama-index-vector-stores-qdrant) (6.1.0)\n",
            "Requirement already satisfied: yarl<2.0,>=1.0 in /usr/local/lib/python3.10/dist-packages (from aiohttp<4.0.0,>=3.8.6->llama-index-core<0.12.0,>=0.11.0->llama-index-vector-stores-qdrant) (1.11.1)\n",
            "Requirement already satisfied: async-timeout<5.0,>=4.0 in /usr/local/lib/python3.10/dist-packages (from aiohttp<4.0.0,>=3.8.6->llama-index-core<0.12.0,>=0.11.0->llama-index-vector-stores-qdrant) (4.0.3)\n",
            "Requirement already satisfied: protobuf<5.0dev,>=4.21.6 in /usr/local/lib/python3.10/dist-packages (from grpcio-tools>=1.41.0->qdrant-client>=1.7.1->llama-index-vector-stores-qdrant) (4.25.4)\n",
            "Requirement already satisfied: setuptools in /usr/local/lib/python3.10/dist-packages (from grpcio-tools>=1.41.0->qdrant-client>=1.7.1->llama-index-vector-stores-qdrant) (71.0.4)\n",
            "Requirement already satisfied: anyio in /usr/local/lib/python3.10/dist-packages (from httpx->llama-index-core<0.12.0,>=0.11.0->llama-index-vector-stores-qdrant) (3.7.1)\n",
            "Requirement already satisfied: certifi in /usr/local/lib/python3.10/dist-packages (from httpx->llama-index-core<0.12.0,>=0.11.0->llama-index-vector-stores-qdrant) (2024.8.30)\n",
            "Requirement already satisfied: httpcore==1.* in /usr/local/lib/python3.10/dist-packages (from httpx->llama-index-core<0.12.0,>=0.11.0->llama-index-vector-stores-qdrant) (1.0.5)\n",
            "Requirement already satisfied: idna in /usr/local/lib/python3.10/dist-packages (from httpx->llama-index-core<0.12.0,>=0.11.0->llama-index-vector-stores-qdrant) (3.8)\n",
            "Requirement already satisfied: sniffio in /usr/local/lib/python3.10/dist-packages (from httpx->llama-index-core<0.12.0,>=0.11.0->llama-index-vector-stores-qdrant) (1.3.1)\n",
            "Requirement already satisfied: h11<0.15,>=0.13 in /usr/local/lib/python3.10/dist-packages (from httpcore==1.*->httpx->llama-index-core<0.12.0,>=0.11.0->llama-index-vector-stores-qdrant) (0.14.0)\n",
            "Requirement already satisfied: h2<5,>=3 in /usr/local/lib/python3.10/dist-packages (from httpx[http2]>=0.20.0->qdrant-client>=1.7.1->llama-index-vector-stores-qdrant) (4.1.0)\n",
            "Requirement already satisfied: filelock in /usr/local/lib/python3.10/dist-packages (from huggingface-hub<1.0,>=0.20->fastembed>=0.2.2->llama-index-embeddings-fastembed) (3.16.0)\n",
            "Requirement already satisfied: packaging>=20.9 in /usr/local/lib/python3.10/dist-packages (from huggingface-hub<1.0,>=0.20->fastembed>=0.2.2->llama-index-embeddings-fastembed) (24.1)\n",
            "Requirement already satisfied: click in /usr/local/lib/python3.10/dist-packages (from nltk>3.8.1->llama-index-core<0.12.0,>=0.11.0->llama-index-vector-stores-qdrant) (8.1.7)\n",
            "Requirement already satisfied: joblib in /usr/local/lib/python3.10/dist-packages (from nltk>3.8.1->llama-index-core<0.12.0,>=0.11.0->llama-index-vector-stores-qdrant) (1.4.2)\n",
            "Requirement already satisfied: regex>=2021.8.3 in /usr/local/lib/python3.10/dist-packages (from nltk>3.8.1->llama-index-core<0.12.0,>=0.11.0->llama-index-vector-stores-qdrant) (2024.5.15)\n",
            "Requirement already satisfied: coloredlogs in /usr/local/lib/python3.10/dist-packages (from onnxruntime<2.0.0,>=1.17.0->fastembed>=0.2.2->llama-index-embeddings-fastembed) (15.0.1)\n",
            "Requirement already satisfied: flatbuffers in /usr/local/lib/python3.10/dist-packages (from onnxruntime<2.0.0,>=1.17.0->fastembed>=0.2.2->llama-index-embeddings-fastembed) (24.3.25)\n",
            "Requirement already satisfied: sympy in /usr/local/lib/python3.10/dist-packages (from onnxruntime<2.0.0,>=1.17.0->fastembed>=0.2.2->llama-index-embeddings-fastembed) (1.13.2)\n",
            "Requirement already satisfied: annotated-types>=0.6.0 in /usr/local/lib/python3.10/dist-packages (from pydantic<3.0.0,>=2.7.0->llama-index-core<0.12.0,>=0.11.0->llama-index-vector-stores-qdrant) (0.7.0)\n",
            "Requirement already satisfied: pydantic-core==2.23.3 in /usr/local/lib/python3.10/dist-packages (from pydantic<3.0.0,>=2.7.0->llama-index-core<0.12.0,>=0.11.0->llama-index-vector-stores-qdrant) (2.23.3)\n",
            "Requirement already satisfied: six>=1.5 in /usr/local/lib/python3.10/dist-packages (from python-dateutil>=2.8.2->pandas->llama-index-readers-file) (1.16.0)\n",
            "Requirement already satisfied: charset-normalizer<4,>=2 in /usr/local/lib/python3.10/dist-packages (from requests<3.0,>=2.31->fastembed>=0.2.2->llama-index-embeddings-fastembed) (3.3.2)\n",
            "Requirement already satisfied: greenlet!=0.4.17 in /usr/local/lib/python3.10/dist-packages (from SQLAlchemy>=1.4.49->SQLAlchemy[asyncio]>=1.4.49->llama-index-core<0.12.0,>=0.11.0->llama-index-vector-stores-qdrant) (3.1.0)\n",
            "Requirement already satisfied: mypy-extensions>=0.3.0 in /usr/local/lib/python3.10/dist-packages (from typing-inspect>=0.8.0->llama-index-core<0.12.0,>=0.11.0->llama-index-vector-stores-qdrant) (1.0.0)\n",
            "Requirement already satisfied: marshmallow<4.0.0,>=3.18.0 in /usr/local/lib/python3.10/dist-packages (from dataclasses-json->llama-index-core<0.12.0,>=0.11.0->llama-index-vector-stores-qdrant) (3.22.0)\n",
            "Requirement already satisfied: hyperframe<7,>=6.0 in /usr/local/lib/python3.10/dist-packages (from h2<5,>=3->httpx[http2]>=0.20.0->qdrant-client>=1.7.1->llama-index-vector-stores-qdrant) (6.0.1)\n",
            "Requirement already satisfied: hpack<5,>=4.0 in /usr/local/lib/python3.10/dist-packages (from h2<5,>=3->httpx[http2]>=0.20.0->qdrant-client>=1.7.1->llama-index-vector-stores-qdrant) (4.0.0)\n",
            "Requirement already satisfied: exceptiongroup in /usr/local/lib/python3.10/dist-packages (from anyio->httpx->llama-index-core<0.12.0,>=0.11.0->llama-index-vector-stores-qdrant) (1.2.2)\n",
            "Requirement already satisfied: humanfriendly>=9.1 in /usr/local/lib/python3.10/dist-packages (from coloredlogs->onnxruntime<2.0.0,>=1.17.0->fastembed>=0.2.2->llama-index-embeddings-fastembed) (10.0)\n",
            "Requirement already satisfied: mpmath<1.4,>=1.1.0 in /usr/local/lib/python3.10/dist-packages (from sympy->onnxruntime<2.0.0,>=1.17.0->fastembed>=0.2.2->llama-index-embeddings-fastembed) (1.3.0)\n",
            "Downloading llama_index_vector_stores_qdrant-0.3.0-py3-none-any.whl (11 kB)\n",
            "Downloading llama_index_embeddings_fastembed-0.2.0-py3-none-any.whl (2.7 kB)\n",
            "Installing collected packages: llama-index-vector-stores-qdrant, llama-index-embeddings-fastembed\n",
            "Successfully installed llama-index-embeddings-fastembed-0.2.0 llama-index-vector-stores-qdrant-0.3.0\n"
          ]
        }
      ]
    },
    {
      "cell_type": "markdown",
      "source": [
        "### Setup Youtube API"
      ],
      "metadata": {
        "id": "1u_jTYCDw7PH"
      }
    },
    {
      "cell_type": "code",
      "source": [
        "import os\n",
        "import re\n",
        "from google.colab import userdata\n",
        "import googleapiclient.discovery\n",
        "\n",
        "# Set up the YouTube API client\n",
        "api_service_name = \"youtube\"\n",
        "api_version = \"v3\"\n",
        "DEVELOPER_KEY =userdata.get('youtube_video_api')\n",
        "\n",
        "youtube = googleapiclient.discovery.build(api_service_name, api_version, developerKey=DEVELOPER_KEY)"
      ],
      "metadata": {
        "id": "alBZcSWUwGJV"
      },
      "execution_count": 4,
      "outputs": []
    },
    {
      "cell_type": "markdown",
      "source": [
        "### Get Video ID from URL"
      ],
      "metadata": {
        "id": "7doY2l9bzZov"
      }
    },
    {
      "cell_type": "code",
      "source": [
        "def get_video_id(url):\n",
        "    # Regular expression to extract the video ID from the URL\n",
        "    video_id_pattern = re.compile(r'(?:v=|\\/)([0-9A-Za-z_-]{11}).*')\n",
        "    match = video_id_pattern.search(url)\n",
        "    if match:\n",
        "        return match.group(1)\n",
        "\n",
        "    return None"
      ],
      "metadata": {
        "id": "_uzUoJtOw3bQ"
      },
      "execution_count": 5,
      "outputs": []
    },
    {
      "cell_type": "markdown",
      "source": [
        "### Give Video details from Video ID\n",
        "- Title\n",
        "- Description\n",
        "- Transcript\n",
        "- Publish Date\n",
        "- Chanel Name"
      ],
      "metadata": {
        "id": "PeSvvfnkzxrG"
      }
    },
    {
      "cell_type": "code",
      "source": [
        "from youtube_transcript_api import YouTubeTranscriptApi\n",
        "\n",
        "\n",
        "def get_video_details(video_id):\n",
        "    request = youtube.videos().list(\n",
        "        part=\"snippet,contentDetails,statistics\",\n",
        "        id=video_id\n",
        "    )\n",
        "    response = request.execute()\n",
        "    items = response.get('items', [])\n",
        "    if not items:\n",
        "        return None\n",
        "\n",
        "    video_data = items[0]\n",
        "    title = video_data['snippet']['title']\n",
        "    description = video_data['snippet']['description']\n",
        "    published_at = video_data['snippet']['publishedAt']\n",
        "    author = video_data['snippet']['channelTitle']\n",
        "\n",
        "    try:\n",
        "      transcript = YouTubeTranscriptApi.get_transcript(video_id, languages=['en'])\n",
        "      vid_transcript= \" \".join([entry['text'] for entry in transcript])\n",
        "\n",
        "    except Exception as e:\n",
        "      print(f\"Could not retrieve transcript for video ID {video_id}: {e}\")\n",
        "      return None\n",
        "\n",
        "    return {\n",
        "        'title': title,\n",
        "        'description': description,\n",
        "        'published_at': published_at,\n",
        "        'author': author,\n",
        "        'Transcript': vid_transcript,\n",
        "        'video_id': video_id\n",
        "    }"
      ],
      "metadata": {
        "id": "37Pf6hZuw5MT"
      },
      "execution_count": 6,
      "outputs": []
    },
    {
      "cell_type": "markdown",
      "source": [
        "### Text filtering function"
      ],
      "metadata": {
        "id": "Qqso3y621k8x"
      }
    },
    {
      "cell_type": "code",
      "source": [
        "import re\n",
        "import string\n",
        "import nltk\n",
        "from nltk.corpus import stopwords\n",
        "from nltk.stem import WordNetLemmatizer\n",
        "nltk.download('stopwords')\n",
        "nltk.download('wordnet')\n",
        "nltk.download('punkt')\n",
        "\n",
        "lemmatizer = WordNetLemmatizer()\n",
        "stop_words = set(stopwords.words('english'))\n",
        "\n",
        "def filter_text(text):\n",
        "    if not isinstance(text, str): # Check if the text is a string\n",
        "        print(f\"Non-string value encountered: {text}\")\n",
        "        return \"\" # Return an empty string if text is not a string\n",
        "\n",
        "    text = text.lower() # Convert to lowercase\n",
        "\n",
        "    # Combine regex patterns to reduce the number of sub calls\n",
        "    pattern = re.compile(r'http\\S+|www\\S+|https\\S+|<.*?>|[\\d]|[^\\w\\s]|[\\t\\n]')\n",
        "    text = pattern.sub(' ', text)\n",
        "\n",
        "    # Removing extra spaces in a single step\n",
        "    text = re.sub(r'\\s+', ' ', text).strip()\n",
        "\n",
        "    # Tokenization and lemmatization in one loop\n",
        "    tokens = [lemmatizer.lemmatize(word) for word in text.split() if word not in stop_words]\n",
        "\n",
        "    return ' '.join(tokens)"
      ],
      "metadata": {
        "colab": {
          "base_uri": "https://localhost:8080/"
        },
        "id": "ttqsKQBHxiOz",
        "outputId": "d6135406-5316-47ed-8ec7-0829b7168d66"
      },
      "execution_count": 7,
      "outputs": [
        {
          "output_type": "stream",
          "name": "stderr",
          "text": [
            "[nltk_data] Downloading package stopwords to /root/nltk_data...\n",
            "[nltk_data]   Unzipping corpora/stopwords.zip.\n",
            "[nltk_data] Downloading package wordnet to /root/nltk_data...\n",
            "[nltk_data] Downloading package punkt to /root/nltk_data...\n",
            "[nltk_data]   Unzipping tokenizers/punkt.zip.\n"
          ]
        }
      ]
    },
    {
      "cell_type": "markdown",
      "source": [
        "### Creating a pipeline in the following sequence\n",
        "- URL\n",
        "- Getting video details\n",
        "- Pre process text\n",
        "- Convert text into Document\n",
        "\n",
        "```\n",
        "!pip uninstall nltk llama_index -y\n",
        "!pip install nltk llama_index\n",
        "```"
      ],
      "metadata": {
        "id": "MUd0v7Y040u_"
      }
    },
    {
      "cell_type": "code",
      "source": [
        "from llama_index.core import Document\n",
        "import uuid\n",
        "\n",
        "global source_document_id\n",
        "source_document_id=None\n",
        "\n",
        "def get_data_pipeline(url):\n",
        "  video_id = get_video_id(url)\n",
        "  result = get_video_details(video_id)\n",
        "\n",
        "  if result is None:\n",
        "    return None\n",
        "\n",
        "  # Generate a unique source_document_id using uuid\n",
        "  global source_document_id\n",
        "  source_document_id = str(uuid.uuid4())\n",
        "\n",
        "  text=result['title'] + \" \" + result['description']+ \" \" +result['Transcript']\n",
        "  preprocessed_text = filter_text(text)\n",
        "\n",
        "  meta_data_dict={'author': result[\"author\"], 'source_doc_id':source_document_id}\n",
        "\n",
        "  #Converting the text in llama_index.core Document\n",
        "  documents= (Document(text=text,metadata=meta_data_dict))\n",
        "  return documents, source_document_id"
      ],
      "metadata": {
        "id": "xgR9fB4tyY6c"
      },
      "execution_count": 8,
      "outputs": []
    },
    {
      "cell_type": "markdown",
      "source": [
        "### Spliting the text into Document\n",
        "\n",
        "- `chunk_size:` This represents the maximum length of each chunk (or segment) after the text is split. For example, if chunk_size=512, each chunk will contain up to 512 characters (or tokens, depending on the implementation). This helps in breaking down large texts into smaller, manageable pieces.\n",
        "\n",
        "- `chunk_overlap`: This defines how much of the content from the end of one chunk overlaps with the start of the next chunk. For instance, if chunk_overlap=64, the last 64 characters of one chunk will be repeated at the start of the next chunk. This ensures that important context isn't lost between chunks."
      ],
      "metadata": {
        "id": "LwFflt-J1Two"
      }
    },
    {
      "cell_type": "code",
      "source": [
        "from llama_index.core.text_splitter import SentenceSplitter\n",
        "\n",
        "\n",
        "def Document_splitter(document):\n",
        "  text_splitter = SentenceSplitter(chunk_size= 500, chunk_overlap=50)\n",
        "  splits= text_splitter.get_nodes_from_documents(document)\n",
        "  return splits"
      ],
      "metadata": {
        "id": "fDOEbRWDA_aI"
      },
      "execution_count": 9,
      "outputs": []
    },
    {
      "cell_type": "markdown",
      "source": [
        "### Setting embedd model"
      ],
      "metadata": {
        "id": "HkKL_-c8h8bh"
      }
    },
    {
      "cell_type": "code",
      "source": [
        "import logging\n",
        "import sys\n",
        "import os\n",
        "\n",
        "import qdrant_client\n",
        "from IPython.display import Markdown, display\n",
        "from llama_index.core import VectorStoreIndex, SimpleDirectoryReader\n",
        "from llama_index.core import StorageContext\n",
        "from llama_index.vector_stores.qdrant import QdrantVectorStore\n",
        "from llama_index.embeddings.fastembed import FastEmbedEmbedding\n",
        "from llama_index.core import Settings\n",
        "\n",
        "Settings.embed_model = FastEmbedEmbedding(model_name=\"BAAI/bge-base-en-v1.5\")"
      ],
      "metadata": {
        "colab": {
          "base_uri": "https://localhost:8080/",
          "height": 313,
          "referenced_widgets": [
            "34c83cd5b9104b4daf45c0a49f1e2871",
            "0e5ca4b6a6bc4c89bf6c1dc3cba9c8af",
            "406b813a4700420caf70e3a996aa3087",
            "b76722d894384ae5af8cd0b131a90f05",
            "b06d1e0c97c44aa4a858aa2df890cba6",
            "d25cd3fd04334044a0d0db13a3431f81",
            "7639d4898d254113804a0cf696d4bfc6",
            "1a8f8b2e07554a54adf171ef5fe9fb5f",
            "6694ab9ee9b840a1a5e0630c3cc5ad81",
            "77b8d5f5d03c4a65ac93fbb1c3a78287",
            "48485bf79e5d45d381e03da5db563830",
            "fe9cb9d5bd5649f4a672793feeeefb68",
            "47040a5a60aa49fdbc7071e94d18dec3",
            "cbdd75a378604500b5d7556b8c3f70a9",
            "0cc25fae6c6248949991717cfdac7105",
            "13c5d140fb754c1ea34db73d1094fbaa",
            "c6c45e56a80a4ceba0ed98889fee7c2a",
            "85886ce01a944415a37022f673077c63",
            "a9f76cce1b714e0399d1a8a4c04e7cf2",
            "7294083fc9e14466a9f41d2ab97cbb1e",
            "b330cb993027441e9ed4a936251944c8",
            "e055c44d7e5c4f2f9efe5665df2e37a2",
            "9c8f3d37a95e4f9ea04bb993fae3425e",
            "6e049508a0c4459e8a7ff0cd7a48712d",
            "ad24f2680d254d9599f2a3b2db349348",
            "bec64e92a334484096b9c0492c1da40d",
            "3b7433eedf274a9bafb4ef1ecf073323",
            "ce2f66483cfc4c62a26fef58fd9e7d2f",
            "ccd04df758974db7a7ce21d80df55fe7",
            "965a0c3c20ac4c78a568307bd4510962",
            "8cdc3e8c0382474496d90acf8242c78f",
            "079c3f3e225441818b844a130098f846",
            "c0afa77cf25d4e029beae66d53e3a3a6",
            "1203b7bbd6424b32a3838e4951177a24",
            "10977f9da53f46109b3bac836c666208",
            "93e1bf3d0d814a54836e1bc58cd475ab",
            "3839724a81db491ba544dae7df88f074",
            "8a724bf80db94219b7095064ca601108",
            "c8cd2f9c07ab4a0488f0353a79e120d5",
            "d14e8434759e4528b1b476d07af1d8fc",
            "81e61c4ed3a74b17b34bca8304fa12cd",
            "432a49a720be4e749d5551c3651f1012",
            "455a52a73ac84e50bf256c62aee32c80",
            "52cf9af98c8f4b07832f4bfbffb8b5d8",
            "aaa0663e5a054788810e094477897d2b",
            "4d53285a2215424ba155930001c9470a",
            "ee1d5ae14b6a4394a5c8b50b9d57a7b3",
            "e7a2336743604c17ac0c60b72592a8f4",
            "29e3c3054d8b4391a7fed4fa4488eb8d",
            "1d69e179c9864d90bcdf38597665c027",
            "699a2c4699d94fe788be92f35f951c45",
            "e3be3a30a0ee4a319bde9b0560b36000",
            "0fac8d4e8ff544b2ba0aa9bfc7325731",
            "3361f9ba50964c77a5ee3bb84eb9d7d8",
            "139727dade2d4626b2b5775fefa4066c",
            "59187e48664445e09f976584eb6805c4",
            "34178ed24fe44940a90afff5f98356db",
            "d3d3211651b14092972a236f7820b208",
            "234a026456044c23a44146991823d10d",
            "36367260cdbf483386284ba9d03c9d6e",
            "41a1baa16a8c4f6cb39bf6f4371f095a",
            "a7b929ccd5694aee8e11b8af67725e30",
            "cc025e85d02c406caa35a1af0f259585",
            "727fcbd0068a4fda9310aafa049fe8ac",
            "35ac1380862946aa92e5dfcfae0e4f39",
            "a2b2e9a94d114ecd81dd2a2119752ca1"
          ]
        },
        "id": "aUzlfghuadvx",
        "outputId": "b8f8f02b-58c4-4dd0-8f9a-d93f1864683a"
      },
      "execution_count": 10,
      "outputs": [
        {
          "output_type": "stream",
          "name": "stderr",
          "text": [
            "/usr/local/lib/python3.10/dist-packages/huggingface_hub/utils/_token.py:89: UserWarning: \n",
            "The secret `HF_TOKEN` does not exist in your Colab secrets.\n",
            "To authenticate with the Hugging Face Hub, create a token in your settings tab (https://huggingface.co/settings/tokens), set it as secret in your Google Colab and restart your session.\n",
            "You will be able to reuse this secret in all of your notebooks.\n",
            "Please note that authentication is recommended but still optional to access public models or datasets.\n",
            "  warnings.warn(\n"
          ]
        },
        {
          "output_type": "display_data",
          "data": {
            "text/plain": [
              "Fetching 5 files:   0%|          | 0/5 [00:00<?, ?it/s]"
            ],
            "application/vnd.jupyter.widget-view+json": {
              "version_major": 2,
              "version_minor": 0,
              "model_id": "34c83cd5b9104b4daf45c0a49f1e2871"
            }
          },
          "metadata": {}
        },
        {
          "output_type": "display_data",
          "data": {
            "text/plain": [
              "model_optimized.onnx:   0%|          | 0.00/218M [00:00<?, ?B/s]"
            ],
            "application/vnd.jupyter.widget-view+json": {
              "version_major": 2,
              "version_minor": 0,
              "model_id": "fe9cb9d5bd5649f4a672793feeeefb68"
            }
          },
          "metadata": {}
        },
        {
          "output_type": "display_data",
          "data": {
            "text/plain": [
              "tokenizer_config.json:   0%|          | 0.00/1.24k [00:00<?, ?B/s]"
            ],
            "application/vnd.jupyter.widget-view+json": {
              "version_major": 2,
              "version_minor": 0,
              "model_id": "9c8f3d37a95e4f9ea04bb993fae3425e"
            }
          },
          "metadata": {}
        },
        {
          "output_type": "display_data",
          "data": {
            "text/plain": [
              "special_tokens_map.json:   0%|          | 0.00/695 [00:00<?, ?B/s]"
            ],
            "application/vnd.jupyter.widget-view+json": {
              "version_major": 2,
              "version_minor": 0,
              "model_id": "1203b7bbd6424b32a3838e4951177a24"
            }
          },
          "metadata": {}
        },
        {
          "output_type": "display_data",
          "data": {
            "text/plain": [
              "tokenizer.json:   0%|          | 0.00/711k [00:00<?, ?B/s]"
            ],
            "application/vnd.jupyter.widget-view+json": {
              "version_major": 2,
              "version_minor": 0,
              "model_id": "aaa0663e5a054788810e094477897d2b"
            }
          },
          "metadata": {}
        },
        {
          "output_type": "display_data",
          "data": {
            "text/plain": [
              "config.json:   0%|          | 0.00/740 [00:00<?, ?B/s]"
            ],
            "application/vnd.jupyter.widget-view+json": {
              "version_major": 2,
              "version_minor": 0,
              "model_id": "59187e48664445e09f976584eb6805c4"
            }
          },
          "metadata": {}
        }
      ]
    },
    {
      "cell_type": "markdown",
      "source": [
        "### Qdrant Vector Database"
      ],
      "metadata": {
        "id": "zGJq5mSRPfnQ"
      }
    },
    {
      "cell_type": "code",
      "source": [
        "from qdrant_client import QdrantClient\n",
        "from llama_index.vector_stores.qdrant import QdrantVectorStore\n",
        "import logging\n",
        "import sys\n",
        "import os\n",
        "from google.colab import userdata\n",
        "\n",
        "qdrant_api_key = userdata.get('qdrant_api')\n",
        "\n",
        "client = QdrantClient(\n",
        "    url=\"09e46b8b-d380-4b87-b0ff-fc89fa53a52d.europe-west3-0.gcp.cloud.qdrant.io:6333\",\n",
        "    api_key=qdrant_api_key,\n",
        ")\n",
        "\n",
        "print(client.get_collections())"
      ],
      "metadata": {
        "colab": {
          "base_uri": "https://localhost:8080/"
        },
        "id": "MEl2QgtUfCSx",
        "outputId": "06045516-c9cd-49dc-feb6-811f3de5c4a1"
      },
      "execution_count": 12,
      "outputs": [
        {
          "output_type": "stream",
          "name": "stdout",
          "text": [
            "collections=[CollectionDescription(name='Youtube_Chatbot')]\n"
          ]
        }
      ]
    },
    {
      "cell_type": "code",
      "source": [
        "vector_store = QdrantVectorStore(\n",
        "    client=client,\n",
        "    collection_name=\"Youtube_Chatbot\"\n",
        ")"
      ],
      "metadata": {
        "id": "B9OzlwgQiPIM"
      },
      "execution_count": 13,
      "outputs": []
    },
    {
      "cell_type": "markdown",
      "source": [
        "### Creating an index"
      ],
      "metadata": {
        "id": "HrvE5xVlmORX"
      }
    },
    {
      "cell_type": "code",
      "source": [
        "from llama_index.core import VectorStoreIndex, StorageContext\n",
        "\n",
        "def create_index(nodes):\n",
        "\n",
        "  storage_context = StorageContext.from_defaults(vector_store=vector_store)\n",
        "\n",
        "  documents = [Document(text=node.text, metadata=node.metadata) for node in nodes]\n",
        "\n",
        "  index = VectorStoreIndex.from_documents(\n",
        "      documents,\n",
        "      storage_context=storage_context,\n",
        "  )\n",
        "\n",
        "  # index.storage_context.persist()\n",
        "\n",
        "  return index"
      ],
      "metadata": {
        "id": "jfFBaK6WkJLa"
      },
      "execution_count": 14,
      "outputs": []
    },
    {
      "cell_type": "markdown",
      "source": [
        "### Retreiving the previosly stored vector database (Not nessesary for this project)"
      ],
      "metadata": {
        "id": "Blp6hHk7SjG-"
      }
    },
    {
      "cell_type": "code",
      "source": [
        "from llama_index.vector_stores.qdrant import QdrantVectorStore\n",
        "from llama_index.core import StorageContext\n",
        "\n",
        "# Assuming qdrant_client and vector_store are already defined\n",
        "\n",
        "storage_context = StorageContext.from_defaults(vector_store=vector_store)\n",
        "\n",
        "index = VectorStoreIndex.from_vector_store(\n",
        "    vector_store=vector_store,\n",
        "    storage_context=storage_context,\n",
        ")"
      ],
      "metadata": {
        "id": "2L7b5ifoP7Sv"
      },
      "execution_count": 15,
      "outputs": []
    },
    {
      "cell_type": "markdown",
      "source": [
        "### Setting up LLM"
      ],
      "metadata": {
        "id": "5XnGMEeWbQ4Y"
      }
    },
    {
      "cell_type": "code",
      "source": [
        "import os\n",
        "from google.colab import userdata\n",
        "from llama_index.llms.groq import Groq\n",
        "\n",
        "os.environ[\"GROQ_API_KEY\"] = userdata.get('groq_api')\n",
        "llm = Groq(model=\"llama3-70b-8192\")\n",
        "Settings.llm = llm"
      ],
      "metadata": {
        "id": "lhqXzNebcRP7"
      },
      "execution_count": 17,
      "outputs": []
    },
    {
      "cell_type": "code",
      "source": [
        "query_engine = index.as_query_engine()\n",
        "response = query_engine.query(\"What did the author do growing up?\")"
      ],
      "metadata": {
        "id": "TjY5Cu8UkBXO"
      },
      "execution_count": 18,
      "outputs": []
    },
    {
      "cell_type": "code",
      "source": [
        "response"
      ],
      "metadata": {
        "colab": {
          "base_uri": "https://localhost:8080/"
        },
        "id": "V7Ng9dXrSfyI",
        "outputId": "bb8cca1e-44b4-4ab9-884b-be330eef4b7e",
        "collapsed": true
      },
      "execution_count": 19,
      "outputs": [
        {
          "output_type": "execute_result",
          "data": {
            "text/plain": [
              "Response(response=\"There is no information provided about the author's childhood or growing up, so it's not possible to determine what the author did growing up.\", source_nodes=[NodeWithScore(node=TextNode(id_='779f62c3-2b5c-4401-9c98-c37b247725a0', embedding=None, metadata={'author': 'The National Desk', 'source_doc_id': '466a6b23-87a3-40d6-99bc-6f5d94bde9cd'}, excluded_embed_metadata_keys=[], excluded_llm_metadata_keys=[], relationships={<NodeRelationship.SOURCE: '1'>: RelatedNodeInfo(node_id='232cafb3-41ce-4af7-bea6-4c04d637b1ec', node_type=<ObjectType.DOCUMENT: '4'>, metadata={'author': 'The National Desk', 'source_doc_id': '466a6b23-87a3-40d6-99bc-6f5d94bde9cd'}, hash='a4b0a51e2fabcabdf9cc476d9f60f14bab8fedc9001971e9d6ca4ab91114ffc4')}, text=\">>A LOT OF GROUND COVERED, BUT  CLEARLY SOME TOPICS WERE LEFT   OUT AND PEOPLE AREN'T HAPPY   ABOUT THAT.   >>YEAH SURPRISINGLY SO. SO THE  NATIONAL DEBT WASN'T DISCUSSED,  EVEN THOUGH IT'S OVER $35   TRILLION AND IS EXPECTED TO   SKYROCKET TO MORE THAN $56  TRILLION IN THE NEXT TEN YEARS.  ACTIVISTS ARE ALSO FIRED UP   THAT EDUCATION WAS LEFT OUT OF  LAST NIGHT'S DEBATE. THEY SAY   IT'S TROUBLING SINCE SO MANY  STUDENTS ARE FALLING BEHIND   FOLLOWING THE COVID 19  PANDEMIC.   >>ALL RIGHT, EMMA, THANK YOU.   MUCH MORE TO DISCUSS I\", mimetype='text/plain', start_char_idx=0, end_char_idx=536, text_template='{metadata_str}\\n\\n{content}', metadata_template='{key}: {value}', metadata_seperator='\\n'), score=0.4354769), NodeWithScore(node=TextNode(id_='3ccbc74d-1ccd-4d3a-981c-4e6e9b2c6140', embedding=None, metadata={'author': 'The National Desk', 'source_doc_id': '466a6b23-87a3-40d6-99bc-6f5d94bde9cd'}, excluded_embed_metadata_keys=[], excluded_llm_metadata_keys=[], relationships={<NodeRelationship.SOURCE: '1'>: RelatedNodeInfo(node_id='739bd9d3-54b7-4d36-a9dd-ffad8493c3dd', node_type=<ObjectType.DOCUMENT: '4'>, metadata={'author': 'The National Desk', 'source_doc_id': '466a6b23-87a3-40d6-99bc-6f5d94bde9cd'}, hash='1103a5cad982df9c535f29bc00c165a8d6b3b6e2db31dc4d26d55f6cc2203f6d')}, text=\"NY : WSTM\\nToledo, OH : WNWO\\nTraverse City, MI : WPBN\\nTulsa, OK : KTUL\\nWashington DC : WJLA\\nWest Palm Beach, FL : WPEC\\nWilkes-Barre, PA : WOLF\\nYakima, WA : KIMA\\n\\nThis video and all Sinclair Broadcast Group content archives of local news and sports coverage are available for your use. For more information contact us at contentsales@sbgtv.com\\n\\n#kamalaharris #donaldtrump #politics #factcheckteam NOTE LAST NIGHT'S NUMBERS DO  NOT INCLUDE STREAMING. FORMER   PRESIDENT DONALD TRUMP AND VICE  PRESIDENT KAMALA HARRIS FACED   OFF IN THEIR FIRST PRESIDENTIAL  DEBATE TUESDAY BUT DID THEY   DISCUSS WHAT'S MOST IMPORTANT   TO VOTERS? EMMA, FROM THE FACT  CHECK TEAM JOINS US AFTER   SPENDING THE DAY ANALYZING LAST  NIGHT'S DEBATE. A LOT TO GO   OVER. EMMA, THE DEBATE LED WITH  A QUESTION ON THE ECONOMY, BUT  IT SOUNDS LIKE VOTERS WANT MORE  CONCRETE ANSWERS, LESS DRAMA.   ABSOLUTELY  >>SO THE ECONOMY WAS DEFINITELY  A TOP ISSUE FOR VOTERS, BUT   ONLY ONE ECONOMIC QUESTION WAS  DIRECTLY ASKED. IMMIGRATION,  FOREIGN POLICY AND ABORTION ARE  ALSO SOME TOP PRIORITIES FOR  VOTERS. THEY ASKED ABOUT FOUR   QUESTIONS ABOUT REPRODUCTIVE  RIGHTS. TWO QUESTIONS WERE  ABOUT IMMIGRATION AND THEN SIX  QUESTIONS WERE ABOUT FOREIGN  POLICY.   >>A LOT OF GROUND COVERED, BUT  CLEARLY SOME TOPICS WERE LEFT   OUT AND PEOPLE AREN'T HAPPY   ABOUT THAT.   >>YEAH SURPRISINGLY SO.\", mimetype='text/plain', start_char_idx=0, end_char_idx=1363, text_template='{metadata_str}\\n\\n{content}', metadata_template='{key}: {value}', metadata_seperator='\\n'), score=0.41753632)], metadata={'779f62c3-2b5c-4401-9c98-c37b247725a0': {'author': 'The National Desk', 'source_doc_id': '466a6b23-87a3-40d6-99bc-6f5d94bde9cd'}, '3ccbc74d-1ccd-4d3a-981c-4e6e9b2c6140': {'author': 'The National Desk', 'source_doc_id': '466a6b23-87a3-40d6-99bc-6f5d94bde9cd'}})"
            ]
          },
          "metadata": {},
          "execution_count": 19
        }
      ]
    },
    {
      "cell_type": "code",
      "source": [
        "response = llm.complete(\"Explain the importance of low latency LLMs\")\n",
        "print(response)"
      ],
      "metadata": {
        "colab": {
          "base_uri": "https://localhost:8080/"
        },
        "id": "j9yu0iSPdsFI",
        "outputId": "875ef5db-138c-444b-e7eb-b4d2b600555f",
        "collapsed": true
      },
      "execution_count": 20,
      "outputs": [
        {
          "output_type": "stream",
          "name": "stdout",
          "text": [
            "Low-latency Large Language Models (LLMs) are crucial in various applications where real-time or near-real-time processing is essential. Here are some reasons why low-latency LLMs are important:\n",
            "\n",
            "1. **Real-time Conversational AI**: In conversational AI, such as chatbots, voice assistants, and customer service platforms, low-latency LLMs enable rapid response times, making interactions feel more natural and human-like. This is particularly important in applications where users expect immediate responses, such as customer support or virtual assistants.\n",
            "2. **Live Streaming and Broadcasting**: Low-latency LLMs are essential for live streaming and broadcasting applications, such as real-time transcription, subtitles, or closed captions. This ensures that viewers receive accurate and timely information, enhancing their overall experience.\n",
            "3. **Gaming and Interactive Systems**: In gaming and interactive systems, low-latency LLMs can improve the responsiveness of NPCs (non-player characters), enable more realistic dialogue, and enhance overall gameplay experience.\n",
            "4. **Healthcare and Telemedicine**: In healthcare and telemedicine, low-latency LLMs can facilitate real-time language translation, enabling doctors to communicate more effectively with patients who speak different languages. This can lead to better healthcare outcomes and improved patient satisfaction.\n",
            "5. **Financial Trading and Analytics**: In financial trading and analytics, low-latency LLMs can help analyze large amounts of text data in real-time, enabling traders to make more informed decisions and respond quickly to market changes.\n",
            "6. **Cybersecurity and Threat Detection**: Low-latency LLMs can help detect and respond to cyber threats in real-time, reducing the risk of security breaches and minimizing the impact of attacks.\n",
            "7. **Autonomous Systems and Robotics**: In autonomous systems and robotics, low-latency LLMs can enable more efficient and effective communication between robots and humans, improving overall system performance and safety.\n",
            "8. **Accessibility and Inclusion**: Low-latency LLMs can improve accessibility for people with disabilities, such as those who rely on real-time transcription or language translation to communicate.\n",
            "9. **Edge Computing and IoT**: As edge computing and IoT devices become more prevalent, low-latency LLMs will be essential for processing and analyzing data in real-time, reducing latency and improving overall system performance.\n",
            "10. **Competitive Advantage**: In many industries, low-latency LLMs can provide a competitive advantage by enabling faster and more accurate decision-making, improving customer experiences, and increasing operational efficiency.\n",
            "\n",
            "To achieve low latency in LLMs, researchers and developers are exploring various techniques, including:\n",
            "\n",
            "1. Model pruning and knowledge distillation\n",
            "2. Quantization and precision reduction\n",
            "3. Parallelization and distributed computing\n",
            "4. GPU acceleration and specialized hardware\n",
            "5. Optimized algorithms and data structures\n",
            "6. Caching and memoization\n",
            "7. Edge computing and decentralized processing\n",
            "\n",
            "By reducing latency in LLMs, we can unlock new applications, improve existing ones, and create more efficient and effective systems that can transform industries and revolutionize the way we live and work.\n"
          ]
        }
      ]
    },
    {
      "cell_type": "markdown",
      "source": [
        "### Clearing vector store when new URL is uploaded\n",
        "\n",
        "**kwargs allows passing extra options (like filters, batch sizes, etc.) to the client.delete() method without explicitly defining each option in the function's argument list."
      ],
      "metadata": {
        "id": "JN5ZZA_DTC1l"
      }
    },
    {
      "cell_type": "markdown",
      "source": [
        "```\n",
        "qdrant_client.delete_vectors(collection_name=\"Youtube_Chatbot\", points_selector=None, wait=True)\n",
        "\n",
        "def delete_vectors_by_source_document(client, collection_name, source_document_id, **kwargs):\n",
        "    \"\"\"Delete vectors from the collection associated with a specific source document.\n",
        "\n",
        "    Args:\n",
        "        client: The Qdrant client instance.\n",
        "        collection_name: The name of the collection where vectors are stored.\n",
        "        source_document_id: The ID of the source document whose associated vectors should be deleted.\n",
        "    \"\"\"\n",
        "    filter = {\"must\": [{\"key\": \"source_document_id\", \"match\": {\"value\": source_document_id}}]}\n",
        "    client.delete(collection_name=collection_name, filter=filter, **kwargs)\n",
        "```"
      ],
      "metadata": {
        "id": "y07aY9AudKmx"
      }
    },
    {
      "cell_type": "markdown",
      "source": [
        "### Prompt template"
      ],
      "metadata": {
        "id": "cb5Dv6JLt-0F"
      }
    },
    {
      "cell_type": "code",
      "source": [
        "from llama_index.core import PromptTemplate\n",
        "from llama_index.core.query_pipeline import QueryPipeline\n",
        "\n",
        "\n",
        "template = \"\"\"\n",
        "You are an AI assistant tasked with answering user questions based on the provided context, which is a transcript of a YouTube video. Your responses should be accurate and derived from the context.\n",
        "\n",
        "Here is your task:\n",
        "1. You will be given a user question.\n",
        "2. You will be provided with the context (transcript) from the video.\n",
        "3. Use only the provided transcript to answer the question.\n",
        "4. Explain the details according to the context.\n",
        "5. Try to give long answers even if the context is smaller.\n",
        "6. Make headings and subheading to explain the question better.\n",
        "\n",
        "Context: {transcript}\n",
        "\n",
        "User Question: {user_question}\n",
        "\n",
        "Your task is to provide an accurate answer based on the provided context. If the information needed to answer the question is not in the context, respond with \"The context does not contain that information.\"\n",
        "\"\"\"\n",
        "\n",
        "\n",
        "prompt_tmpl = PromptTemplate(template)\n",
        "p = QueryPipeline(chain=[prompt_tmpl, llm], verbose=True)"
      ],
      "metadata": {
        "id": "iS92YnJ4uAvV"
      },
      "execution_count": 21,
      "outputs": []
    },
    {
      "cell_type": "markdown",
      "source": [
        "### Chain"
      ],
      "metadata": {
        "id": "egz9DmBXuYRz"
      }
    },
    {
      "cell_type": "code",
      "source": [
        "from llama_index.core import PromptTemplate\n",
        "\n",
        "def give_output(retriever, query):\n",
        "  text_nodes=retriever.retrieve(query)\n",
        "  docs = \"\\n\\n\".join(node.get_text() for node in text_nodes)\n",
        "  output = p.run(user_question=query,transcript=docs)\n",
        "  return (output)"
      ],
      "metadata": {
        "id": "R-sgjSyIuaL4"
      },
      "execution_count": 63,
      "outputs": []
    },
    {
      "cell_type": "markdown",
      "source": [
        "### Deleting Points from vector store"
      ],
      "metadata": {
        "id": "ulnbNfJzmScb"
      }
    },
    {
      "cell_type": "code",
      "source": [
        "from qdrant_client.http import models\n",
        "\n",
        "def delete_previos_vectors(source_document_ID):\n",
        "  client.delete(\n",
        "      collection_name=\"Youtube_Chatbot\",\n",
        "      points_selector=models.PointIdsList(\n",
        "          points=[0, 3, 100],\n",
        "      ),\n",
        "  )\n",
        "  client.delete(\n",
        "      collection_name=\"Youtube_Chatbot\",\n",
        "      points_selector=models.FilterSelector(\n",
        "          filter=models.Filter(\n",
        "              must=[\n",
        "                  models.FieldCondition(\n",
        "                      key=\"source_doc_id\",\n",
        "                      match=models.MatchValue(value= source_document_ID),\n",
        "                  ),\n",
        "              ],\n",
        "          )\n",
        "      ),\n",
        "  )\n",
        "\n",
        "# delete_previos_vectors(\"6d2c4480-2364-4471-be84-364da7d97ec5\")"
      ],
      "metadata": {
        "id": "cVJqE-yUoa2C"
      },
      "execution_count": 69,
      "outputs": []
    },
    {
      "cell_type": "markdown",
      "source": [
        "### Pipeline calling"
      ],
      "metadata": {
        "id": "GinVyudb4EKs"
      }
    },
    {
      "cell_type": "code",
      "source": [
        "from operator import index\n",
        "\n",
        "# Declare the global variable\n",
        "global doc_id\n",
        "doc_id = None\n",
        "\n",
        "def vector_creation_pipeline(url):\n",
        "  global doc_id\n",
        "  document_text, doc_id= get_data_pipeline(url)\n",
        "  print(f\"doc id: {doc_id}\")\n",
        "  split_doc= Document_splitter([document_text])\n",
        "  index= create_index(split_doc)\n",
        "  retriever = index.as_retriever(search_kwargs={\"k\": 3})\n",
        "\n",
        "  return retriever"
      ],
      "metadata": {
        "id": "-77FDurSy9j8"
      },
      "execution_count": 26,
      "outputs": []
    },
    {
      "cell_type": "markdown",
      "source": [
        "### Testing"
      ],
      "metadata": {
        "id": "Q73c55Vw2LPX"
      }
    },
    {
      "cell_type": "code",
      "source": [
        "import time\n",
        "\n",
        "url=\"https://youtu.be/KyA2tFCZjrw?si=hYDh5YQ0IVA_wJwm\"\n",
        "start_time = time.time()\n",
        "\n",
        "retreiver=vector_creation_pipeline(url)\n",
        "print(doc_id)\n",
        "print(retreiver)\n",
        "str_output= give_output(retreiver, \"What is the video is topic is about?\")\n",
        "# End the timer\n",
        "end_time = time.time()\n",
        "# Calculate the time taken\n",
        "time_taken = end_time - start_time\n",
        "print(f\"Time taken to run the process: {time_taken:.2f} seconds\")\n",
        "print(str_output)\n",
        "\n",
        "delete_previos_vectors(doc_id)\n",
        "retreiver=None\n",
        "\n",
        "# https://youtu.be/KyA2tFCZjrw?si=hYDh5YQ0IVA_wJwm\n",
        "# print(vec_retiever)"
      ],
      "metadata": {
        "colab": {
          "base_uri": "https://localhost:8080/"
        },
        "id": "D89FGVHf2NJj",
        "outputId": "34dc2485-da00-4701-fba3-7a0730db7e4e"
      },
      "execution_count": 70,
      "outputs": [
        {
          "output_type": "stream",
          "name": "stdout",
          "text": [
            "doc id: 83e35e98-23e7-40db-87a9-e81fa57f4ea3\n",
            "83e35e98-23e7-40db-87a9-e81fa57f4ea3\n",
            "<llama_index.core.indices.vector_store.retrievers.retriever.VectorIndexRetriever object at 0x7ae1c6e8cd60>\n",
            "\u001b[1;3;38;2;155;135;227m> Running module c7f830d2-abd0-4473-b508-e76297051c8d with input: \n",
            "user_question: What is the video is topic is about?\n",
            "transcript: NY : WSTM\n",
            "Toledo, OH : WNWO\n",
            "Traverse City, MI : WPBN\n",
            "Tulsa, OK : KTUL\n",
            "Washington DC : WJLA\n",
            "West Palm Beach, FL : WPEC\n",
            "Wilkes-Barre, PA : WOLF\n",
            "Yakima, WA : KIMA\n",
            "\n",
            "This video and all Sinclair Broadcast G...\n",
            "\n",
            "\u001b[0m\u001b[1;3;38;2;155;135;227m> Running module 714e2a86-858d-4cf9-9be8-8199763bd76e with input: \n",
            "messages: \n",
            "You are an AI assistant tasked with answering user questions based on the provided context, which is a transcript of a YouTube video. Your responses should be accurate and derived from the context.\n",
            "\n",
            "...\n",
            "\n",
            "\u001b[0mTime taken to run the process: 10.19 seconds\n",
            "assistant: **Video Topic: Analysis of the First Presidential Debate between Donald Trump and Kamala Harris**\n",
            "\n",
            "The video is about the analysis of the first presidential debate between former President Donald Trump and Vice President Kamala Harris. The debate was held on Tuesday, and the Fact Check Team, represented by Emma, spent the day analyzing the debate to discuss what was covered and what was left out.\n",
            "\n",
            "**Key Points from the Debate Analysis**\n",
            "\n",
            "* The debate led with a question on the economy, but voters want more concrete answers and less drama.\n",
            "* The economy was a top issue for voters, but only one economic question was directly asked.\n",
            "* Other top priorities for voters, such as immigration, foreign policy, and abortion, were also discussed.\n",
            "* However, some important topics were left out, including the national debt, which is over $35 trillion and expected to skyrocket to more than $56 trillion in the next ten years.\n",
            "* Education was also left out of the debate, which is troubling since many students are falling behind following the COVID-19 pandemic.\n",
            "\n",
            "Overall, the video is focused on providing an analysis of the first presidential debate, highlighting what was discussed and what was omitted, and how this may impact voters' perceptions of the candidates.\n"
          ]
        }
      ]
    },
    {
      "cell_type": "code",
      "source": [
        "!pip install --upgrade gradio"
      ],
      "metadata": {
        "collapsed": true,
        "colab": {
          "base_uri": "https://localhost:8080/"
        },
        "id": "PP95Vj9f5WAB",
        "outputId": "1d2a795e-8c1b-43a7-ce0f-d898e3ca0275"
      },
      "execution_count": 27,
      "outputs": [
        {
          "output_type": "stream",
          "name": "stdout",
          "text": [
            "Collecting gradio\n",
            "  Downloading gradio-4.44.0-py3-none-any.whl.metadata (15 kB)\n",
            "Collecting aiofiles<24.0,>=22.0 (from gradio)\n",
            "  Downloading aiofiles-23.2.1-py3-none-any.whl.metadata (9.7 kB)\n",
            "Requirement already satisfied: anyio<5.0,>=3.0 in /usr/local/lib/python3.10/dist-packages (from gradio) (3.7.1)\n",
            "Requirement already satisfied: fastapi<1.0 in /usr/local/lib/python3.10/dist-packages (from gradio) (0.114.1)\n",
            "Collecting ffmpy (from gradio)\n",
            "  Downloading ffmpy-0.4.0-py3-none-any.whl.metadata (2.9 kB)\n",
            "Collecting gradio-client==1.3.0 (from gradio)\n",
            "  Downloading gradio_client-1.3.0-py3-none-any.whl.metadata (7.1 kB)\n",
            "Requirement already satisfied: httpx>=0.24.1 in /usr/local/lib/python3.10/dist-packages (from gradio) (0.27.2)\n",
            "Requirement already satisfied: huggingface-hub>=0.19.3 in /usr/local/lib/python3.10/dist-packages (from gradio) (0.24.6)\n",
            "Requirement already satisfied: importlib-resources<7.0,>=1.3 in /usr/local/lib/python3.10/dist-packages (from gradio) (6.4.5)\n",
            "Requirement already satisfied: jinja2<4.0 in /usr/local/lib/python3.10/dist-packages (from gradio) (3.1.4)\n",
            "Requirement already satisfied: markupsafe~=2.0 in /usr/local/lib/python3.10/dist-packages (from gradio) (2.1.5)\n",
            "Requirement already satisfied: matplotlib~=3.0 in /usr/local/lib/python3.10/dist-packages (from gradio) (3.7.1)\n",
            "Requirement already satisfied: numpy<3.0,>=1.0 in /usr/local/lib/python3.10/dist-packages (from gradio) (1.26.4)\n",
            "Requirement already satisfied: orjson~=3.0 in /usr/local/lib/python3.10/dist-packages (from gradio) (3.10.7)\n",
            "Requirement already satisfied: packaging in /usr/local/lib/python3.10/dist-packages (from gradio) (24.1)\n",
            "Requirement already satisfied: pandas<3.0,>=1.0 in /usr/local/lib/python3.10/dist-packages (from gradio) (2.1.4)\n",
            "Requirement already satisfied: pillow<11.0,>=8.0 in /usr/local/lib/python3.10/dist-packages (from gradio) (10.4.0)\n",
            "Requirement already satisfied: pydantic>=2.0 in /usr/local/lib/python3.10/dist-packages (from gradio) (2.9.1)\n",
            "Collecting pydub (from gradio)\n",
            "  Downloading pydub-0.25.1-py2.py3-none-any.whl.metadata (1.4 kB)\n",
            "Collecting python-multipart>=0.0.9 (from gradio)\n",
            "  Downloading python_multipart-0.0.9-py3-none-any.whl.metadata (2.5 kB)\n",
            "Requirement already satisfied: pyyaml<7.0,>=5.0 in /usr/local/lib/python3.10/dist-packages (from gradio) (6.0.2)\n",
            "Collecting ruff>=0.2.2 (from gradio)\n",
            "  Downloading ruff-0.6.4-py3-none-manylinux_2_17_x86_64.manylinux2014_x86_64.whl.metadata (25 kB)\n",
            "Collecting semantic-version~=2.0 (from gradio)\n",
            "  Downloading semantic_version-2.10.0-py2.py3-none-any.whl.metadata (9.7 kB)\n",
            "Collecting tomlkit==0.12.0 (from gradio)\n",
            "  Downloading tomlkit-0.12.0-py3-none-any.whl.metadata (2.7 kB)\n",
            "Requirement already satisfied: typer<1.0,>=0.12 in /usr/local/lib/python3.10/dist-packages (from gradio) (0.12.5)\n",
            "Requirement already satisfied: typing-extensions~=4.0 in /usr/local/lib/python3.10/dist-packages (from gradio) (4.12.2)\n",
            "Requirement already satisfied: urllib3~=2.0 in /usr/local/lib/python3.10/dist-packages (from gradio) (2.0.7)\n",
            "Requirement already satisfied: uvicorn>=0.14.0 in /usr/local/lib/python3.10/dist-packages (from gradio) (0.30.6)\n",
            "Requirement already satisfied: fsspec in /usr/local/lib/python3.10/dist-packages (from gradio-client==1.3.0->gradio) (2024.6.1)\n",
            "Collecting websockets<13.0,>=10.0 (from gradio-client==1.3.0->gradio)\n",
            "  Downloading websockets-12.0-cp310-cp310-manylinux_2_5_x86_64.manylinux1_x86_64.manylinux_2_17_x86_64.manylinux2014_x86_64.whl.metadata (6.6 kB)\n",
            "Requirement already satisfied: idna>=2.8 in /usr/local/lib/python3.10/dist-packages (from anyio<5.0,>=3.0->gradio) (3.8)\n",
            "Requirement already satisfied: sniffio>=1.1 in /usr/local/lib/python3.10/dist-packages (from anyio<5.0,>=3.0->gradio) (1.3.1)\n",
            "Requirement already satisfied: exceptiongroup in /usr/local/lib/python3.10/dist-packages (from anyio<5.0,>=3.0->gradio) (1.2.2)\n",
            "Requirement already satisfied: starlette<0.39.0,>=0.37.2 in /usr/local/lib/python3.10/dist-packages (from fastapi<1.0->gradio) (0.38.5)\n",
            "Requirement already satisfied: certifi in /usr/local/lib/python3.10/dist-packages (from httpx>=0.24.1->gradio) (2024.8.30)\n",
            "Requirement already satisfied: httpcore==1.* in /usr/local/lib/python3.10/dist-packages (from httpx>=0.24.1->gradio) (1.0.5)\n",
            "Requirement already satisfied: h11<0.15,>=0.13 in /usr/local/lib/python3.10/dist-packages (from httpcore==1.*->httpx>=0.24.1->gradio) (0.14.0)\n",
            "Requirement already satisfied: filelock in /usr/local/lib/python3.10/dist-packages (from huggingface-hub>=0.19.3->gradio) (3.16.0)\n",
            "Requirement already satisfied: requests in /usr/local/lib/python3.10/dist-packages (from huggingface-hub>=0.19.3->gradio) (2.32.3)\n",
            "Requirement already satisfied: tqdm>=4.42.1 in /usr/local/lib/python3.10/dist-packages (from huggingface-hub>=0.19.3->gradio) (4.66.5)\n",
            "Requirement already satisfied: contourpy>=1.0.1 in /usr/local/lib/python3.10/dist-packages (from matplotlib~=3.0->gradio) (1.3.0)\n",
            "Requirement already satisfied: cycler>=0.10 in /usr/local/lib/python3.10/dist-packages (from matplotlib~=3.0->gradio) (0.12.1)\n",
            "Requirement already satisfied: fonttools>=4.22.0 in /usr/local/lib/python3.10/dist-packages (from matplotlib~=3.0->gradio) (4.53.1)\n",
            "Requirement already satisfied: kiwisolver>=1.0.1 in /usr/local/lib/python3.10/dist-packages (from matplotlib~=3.0->gradio) (1.4.7)\n",
            "Requirement already satisfied: pyparsing>=2.3.1 in /usr/local/lib/python3.10/dist-packages (from matplotlib~=3.0->gradio) (3.1.4)\n",
            "Requirement already satisfied: python-dateutil>=2.7 in /usr/local/lib/python3.10/dist-packages (from matplotlib~=3.0->gradio) (2.8.2)\n",
            "Requirement already satisfied: pytz>=2020.1 in /usr/local/lib/python3.10/dist-packages (from pandas<3.0,>=1.0->gradio) (2024.1)\n",
            "Requirement already satisfied: tzdata>=2022.1 in /usr/local/lib/python3.10/dist-packages (from pandas<3.0,>=1.0->gradio) (2024.1)\n",
            "Requirement already satisfied: annotated-types>=0.6.0 in /usr/local/lib/python3.10/dist-packages (from pydantic>=2.0->gradio) (0.7.0)\n",
            "Requirement already satisfied: pydantic-core==2.23.3 in /usr/local/lib/python3.10/dist-packages (from pydantic>=2.0->gradio) (2.23.3)\n",
            "Requirement already satisfied: click>=8.0.0 in /usr/local/lib/python3.10/dist-packages (from typer<1.0,>=0.12->gradio) (8.1.7)\n",
            "Requirement already satisfied: shellingham>=1.3.0 in /usr/local/lib/python3.10/dist-packages (from typer<1.0,>=0.12->gradio) (1.5.4)\n",
            "Requirement already satisfied: rich>=10.11.0 in /usr/local/lib/python3.10/dist-packages (from typer<1.0,>=0.12->gradio) (13.8.1)\n",
            "Requirement already satisfied: six>=1.5 in /usr/local/lib/python3.10/dist-packages (from python-dateutil>=2.7->matplotlib~=3.0->gradio) (1.16.0)\n",
            "Requirement already satisfied: markdown-it-py>=2.2.0 in /usr/local/lib/python3.10/dist-packages (from rich>=10.11.0->typer<1.0,>=0.12->gradio) (3.0.0)\n",
            "Requirement already satisfied: pygments<3.0.0,>=2.13.0 in /usr/local/lib/python3.10/dist-packages (from rich>=10.11.0->typer<1.0,>=0.12->gradio) (2.16.1)\n",
            "Requirement already satisfied: charset-normalizer<4,>=2 in /usr/local/lib/python3.10/dist-packages (from requests->huggingface-hub>=0.19.3->gradio) (3.3.2)\n",
            "Requirement already satisfied: mdurl~=0.1 in /usr/local/lib/python3.10/dist-packages (from markdown-it-py>=2.2.0->rich>=10.11.0->typer<1.0,>=0.12->gradio) (0.1.2)\n",
            "Downloading gradio-4.44.0-py3-none-any.whl (18.1 MB)\n",
            "\u001b[2K   \u001b[90m━━━━━━━━━━━━━━━━━━━━━━━━━━━━━━━━━━━━━━━━\u001b[0m \u001b[32m18.1/18.1 MB\u001b[0m \u001b[31m76.6 MB/s\u001b[0m eta \u001b[36m0:00:00\u001b[0m\n",
            "\u001b[?25hDownloading gradio_client-1.3.0-py3-none-any.whl (318 kB)\n",
            "\u001b[2K   \u001b[90m━━━━━━━━━━━━━━━━━━━━━━━━━━━━━━━━━━━━━━━━\u001b[0m \u001b[32m318.7/318.7 kB\u001b[0m \u001b[31m23.6 MB/s\u001b[0m eta \u001b[36m0:00:00\u001b[0m\n",
            "\u001b[?25hDownloading tomlkit-0.12.0-py3-none-any.whl (37 kB)\n",
            "Downloading aiofiles-23.2.1-py3-none-any.whl (15 kB)\n",
            "Downloading python_multipart-0.0.9-py3-none-any.whl (22 kB)\n",
            "Downloading ruff-0.6.4-py3-none-manylinux_2_17_x86_64.manylinux2014_x86_64.whl (10.3 MB)\n",
            "\u001b[2K   \u001b[90m━━━━━━━━━━━━━━━━━━━━━━━━━━━━━━━━━━━━━━━━\u001b[0m \u001b[32m10.3/10.3 MB\u001b[0m \u001b[31m84.6 MB/s\u001b[0m eta \u001b[36m0:00:00\u001b[0m\n",
            "\u001b[?25hDownloading semantic_version-2.10.0-py2.py3-none-any.whl (15 kB)\n",
            "Downloading ffmpy-0.4.0-py3-none-any.whl (5.8 kB)\n",
            "Downloading pydub-0.25.1-py2.py3-none-any.whl (32 kB)\n",
            "Downloading websockets-12.0-cp310-cp310-manylinux_2_5_x86_64.manylinux1_x86_64.manylinux_2_17_x86_64.manylinux2014_x86_64.whl (130 kB)\n",
            "\u001b[2K   \u001b[90m━━━━━━━━━━━━━━━━━━━━━━━━━━━━━━━━━━━━━━━━\u001b[0m \u001b[32m130.2/130.2 kB\u001b[0m \u001b[31m10.5 MB/s\u001b[0m eta \u001b[36m0:00:00\u001b[0m\n",
            "\u001b[?25hInstalling collected packages: pydub, websockets, tomlkit, semantic-version, ruff, python-multipart, ffmpy, aiofiles, gradio-client, gradio\n",
            "  Attempting uninstall: websockets\n",
            "    Found existing installation: websockets 13.0.1\n",
            "    Uninstalling websockets-13.0.1:\n",
            "      Successfully uninstalled websockets-13.0.1\n",
            "  Attempting uninstall: tomlkit\n",
            "    Found existing installation: tomlkit 0.13.2\n",
            "    Uninstalling tomlkit-0.13.2:\n",
            "      Successfully uninstalled tomlkit-0.13.2\n",
            "Successfully installed aiofiles-23.2.1 ffmpy-0.4.0 gradio-4.44.0 gradio-client-1.3.0 pydub-0.25.1 python-multipart-0.0.9 ruff-0.6.4 semantic-version-2.10.0 tomlkit-0.12.0 websockets-12.0\n"
          ]
        }
      ]
    },
    {
      "cell_type": "markdown",
      "source": [
        "### Gradio Interface"
      ],
      "metadata": {
        "id": "zDROKLT_hM0i"
      }
    },
    {
      "cell_type": "code",
      "source": [
        "print(vec_retiever)"
      ],
      "metadata": {
        "colab": {
          "base_uri": "https://localhost:8080/"
        },
        "id": "WuPQ0NJpfdVr",
        "outputId": "9a9fdeda-3ee8-4db1-94f8-7d5c416eebfa"
      },
      "execution_count": 47,
      "outputs": [
        {
          "output_type": "stream",
          "name": "stdout",
          "text": [
            "<llama_index.core.indices.vector_store.retrievers.retriever.VectorIndexRetriever object at 0x7ae1c8be7ca0>\n"
          ]
        }
      ]
    },
    {
      "cell_type": "code",
      "source": [
        "import gradio as gr\n",
        "\n",
        "global vec_retiever\n",
        "vec_retiever=None\n",
        "\n",
        "def handle_url(url):\n",
        "  global vec_retiever\n",
        "  vec_retiever=vector_creation_pipeline(url)\n",
        "  if vec_retiever is None:\n",
        "    return \"Invalid URL\"\n",
        "\n",
        "  return f\"URL successfully uploaded\"\n",
        "\n",
        "def handle_vecstore_removal():\n",
        "  global vec_retiever\n",
        "  delete_previos_vectors(doc_id)\n",
        "  vec_retiever=None\n",
        "  return f\"Lets start new conversation\",\"\",\"\"\n",
        "\n",
        "def chatbot(input_text, history):\n",
        "  answer_to_prompt=give_output(vec_retiever, input_text)\n",
        "  final_answer= answer_to_prompt.message.content\n",
        "  return final_answer\n",
        "\n",
        "# Set up the Gradio interface\n",
        "with gr.Blocks() as demo:\n",
        "  # Title of the interface\n",
        "  gr.Markdown(\"Youtube Video Chatbot\")\n",
        "\n",
        "  # Display the processed URL output\n",
        "  url_output = gr.Textbox(label=\"Processed URL Output\", interactive=False)\n",
        "\n",
        "  with gr.Row():\n",
        "    url_input = gr.Textbox(label=\"Enter a URL\", placeholder=\"Type URL here...\")\n",
        "    submit_button = gr.Button(\"Submit URL\")\n",
        "    clear_button= gr.Button(\"Start new Chat\")\n",
        "\n",
        "    submit_button.click(fn=handle_url, inputs=url_input, outputs=url_output)\n",
        "    clear_button.click(fn=handle_vecstore_removal, outputs=[url_output, url_input])\n",
        "\n",
        "  # Chat interface\n",
        "  chat_interface = gr.ChatInterface(fn=chatbot,\n",
        "                                    chatbot=gr.Chatbot(height=600),\n",
        "                                    textbox=gr.Textbox(placeholder=\"Ask me a question about the video\", container=False, scale=7))\n",
        "\n",
        "  # Clear chat interface when the clear button is clicked\n",
        "  def clear_chat():\n",
        "    return [], \"\"  # Return an empty list for chat history and an empty string for the textbox\n",
        "\n",
        "  clear_button.click(fn=clear_chat, outputs=[chat_interface, chat_interface.textbox])\n",
        "\n",
        "demo.launch()"
      ],
      "metadata": {
        "colab": {
          "base_uri": "https://localhost:8080/",
          "height": 626
        },
        "id": "-9nq0O_-hPO7",
        "outputId": "f9ed9b86-d79b-452f-c2f4-c4751f3e637d"
      },
      "execution_count": 71,
      "outputs": [
        {
          "output_type": "stream",
          "name": "stdout",
          "text": [
            "Setting queue=True in a Colab notebook requires sharing enabled. Setting `share=True` (you can turn this off by setting `share=False` in `launch()` explicitly).\n",
            "\n",
            "Colab notebook detected. To show errors in colab notebook, set debug=True in launch()\n",
            "Running on public URL: https://fa6fdd5cc9ff3009b9.gradio.live\n",
            "\n",
            "This share link expires in 72 hours. For free permanent hosting and GPU upgrades, run `gradio deploy` from Terminal to deploy to Spaces (https://huggingface.co/spaces)\n"
          ]
        },
        {
          "output_type": "display_data",
          "data": {
            "text/plain": [
              "<IPython.core.display.HTML object>"
            ],
            "text/html": [
              "<div><iframe src=\"https://fa6fdd5cc9ff3009b9.gradio.live\" width=\"100%\" height=\"500\" allow=\"autoplay; camera; microphone; clipboard-read; clipboard-write;\" frameborder=\"0\" allowfullscreen></iframe></div>"
            ]
          },
          "metadata": {}
        },
        {
          "output_type": "execute_result",
          "data": {
            "text/plain": []
          },
          "metadata": {},
          "execution_count": 71
        }
      ]
    },
    {
      "cell_type": "code",
      "source": [],
      "metadata": {
        "id": "HjMjydIj6M70"
      },
      "execution_count": null,
      "outputs": []
    }
  ]
}